{
 "cells": [
  {
   "cell_type": "markdown",
   "metadata": {},
   "source": [
    "# Sparkify Project Workspace\n",
    "This workspace contains a tiny subset (128MB) of the full dataset available (12GB). Feel free to use this workspace to build your project, or to explore a smaller subset with Spark before deploying your cluster on the cloud. Instructions for setting up your Spark cluster is included in the last lesson of the Extracurricular Spark Course content.\n",
    "\n",
    "You can follow the steps below to guide your data analysis and model building portion of this project."
   ]
  },
  {
   "cell_type": "markdown",
   "metadata": {},
   "source": [
    "Sparkify is a popular digital musical services where users can listen to their favourite songs either using the free tier or purchase premium subscription model in which they stream music as free but pay a monthly flat rate. Understanding the behaviour and preference of users helping us in business planning. The activities carried out by the users such as logging in and out, downgrade, upgrade or services cancellation are recorded as data which can be used to predict the risk to churn for users.\n",
    "\n",
    "\n",
    "Exploratory Analysis\n",
    "\n",
    "- The relationship between gender and level of users - (paid or free) against churned users are explored. \n",
    "\n",
    "\n",
    "Feature Engineering\n",
    "\n",
    "- Positive and negative feedbacks, interaction between users, and trends of song and artists are investigated to identify the     tendency of churn rate. The target and feature variables are defined and prepared for the use in modeling.\n",
    "\n",
    "\n",
    "Modeling\n",
    "\n",
    "- Predicting churn is a classification in machine learning. 3 classification models - Logistic Regression, Random Forest and     Gradient Boosting Tree are chosen to compare the model performance and validate the suitable hyperparameters.\n",
    "  For evaluation metrics, accuracy and F1 score are evaluated. Accuracy measures how well the model in predicting churn and F1   score measures the accuracy of the model's performance.\n",
    "\n",
    "\n",
    "Spark SQL, Spark DataFrame and Spark ML will be used in this analysis."
   ]
  },
  {
   "cell_type": "code",
   "execution_count": 1,
   "metadata": {},
   "outputs": [],
   "source": [
    "# import libraries\n",
    "import pandas as pd\n",
    "import matplotlib.pyplot as plt\n",
    "import seaborn as sns\n",
    "from pyspark.sql import SparkSession\n",
    "from pyspark.sql.types import IntegerType\n",
    "from pyspark.sql.functions import count, col, concat, avg, asc, desc, min, max, split, explode, lit, udf, stddev, isnull, isnan, when\n",
    "from pyspark.ml.feature import RegexTokenizer, VectorAssembler, CountVectorizer, IDF, StringIndexer, Normalizer, PCA, MinMaxScaler, StandardScaler\n",
    "from pyspark.ml.regression import LinearRegression\n",
    "from pyspark.ml.classification import LogisticRegression\n",
    "from pyspark.ml.tuning import CrossValidator, ParamGridBuilder\n",
    "from pyspark.ml.evaluation import BinaryClassificationEvaluator\n",
    "from pyspark.ml.evaluation import MulticlassClassificationEvaluator\n",
    "from pyspark.mllib.tree import RandomForest, RandomForestModel\n",
    "from pyspark.ml.classification import RandomForestClassifier\n",
    "from pyspark.ml.classification import GBTClassifier"
   ]
  },
  {
   "cell_type": "code",
   "execution_count": 2,
   "metadata": {},
   "outputs": [],
   "source": [
    "# create a Spark session\n",
    "spark = SparkSession\\\n",
    "        .builder\\\n",
    "        .appName(\"Sparkify Project\")\\\n",
    "        .getOrCreate()"
   ]
  },
  {
   "cell_type": "markdown",
   "metadata": {},
   "source": [
    "# Load and Clean Dataset\n",
    "In this workspace, the mini-dataset file is `mini_sparkify_event_data.json`. Load and clean the dataset, checking for invalid or missing data - for example, records without userids or sessionids. "
   ]
  },
  {
   "cell_type": "code",
   "execution_count": 3,
   "metadata": {},
   "outputs": [
    {
     "data": {
      "text/plain": [
       "DataFrame[artist: string, auth: string, firstName: string, gender: string, itemInSession: bigint, lastName: string, length: double, level: string, location: string, method: string, page: string, registration: bigint, sessionId: bigint, song: string, status: bigint, ts: bigint, userAgent: string, userId: string]"
      ]
     },
     "execution_count": 3,
     "metadata": {},
     "output_type": "execute_result"
    }
   ],
   "source": [
    "df = spark.read.json(\"mini_sparkify_event_data.json\")\n",
    "df.persist()"
   ]
  },
  {
   "cell_type": "code",
   "execution_count": 4,
   "metadata": {
    "scrolled": true
   },
   "outputs": [
    {
     "name": "stdout",
     "output_type": "stream",
     "text": [
      "+----------------+---------+---------+------+-------------+--------+---------+-----+--------------------+------+--------+-------------+---------+--------------------+------+-------------+--------------------+------+\n",
      "|          artist|     auth|firstName|gender|itemInSession|lastName|   length|level|            location|method|    page| registration|sessionId|                song|status|           ts|           userAgent|userId|\n",
      "+----------------+---------+---------+------+-------------+--------+---------+-----+--------------------+------+--------+-------------+---------+--------------------+------+-------------+--------------------+------+\n",
      "|  Martha Tilston|Logged In|    Colin|     M|           50| Freeman|277.89016| paid|     Bakersfield, CA|   PUT|NextSong|1538173362000|       29|           Rockpools|   200|1538352117000|Mozilla/5.0 (Wind...|    30|\n",
      "|Five Iron Frenzy|Logged In|    Micah|     M|           79|    Long|236.09424| free|Boston-Cambridge-...|   PUT|NextSong|1538331630000|        8|              Canada|   200|1538352180000|\"Mozilla/5.0 (Win...|     9|\n",
      "|    Adam Lambert|Logged In|    Colin|     M|           51| Freeman| 282.8273| paid|     Bakersfield, CA|   PUT|NextSong|1538173362000|       29|   Time For Miracles|   200|1538352394000|Mozilla/5.0 (Wind...|    30|\n",
      "|          Enigma|Logged In|    Micah|     M|           80|    Long|262.71302| free|Boston-Cambridge-...|   PUT|NextSong|1538331630000|        8|Knocking On Forbi...|   200|1538352416000|\"Mozilla/5.0 (Win...|     9|\n",
      "|       Daft Punk|Logged In|    Colin|     M|           52| Freeman|223.60771| paid|     Bakersfield, CA|   PUT|NextSong|1538173362000|       29|Harder Better Fas...|   200|1538352676000|Mozilla/5.0 (Wind...|    30|\n",
      "+----------------+---------+---------+------+-------------+--------+---------+-----+--------------------+------+--------+-------------+---------+--------------------+------+-------------+--------------------+------+\n",
      "only showing top 5 rows\n",
      "\n"
     ]
    }
   ],
   "source": [
    "df.show(5)"
   ]
  },
  {
   "cell_type": "code",
   "execution_count": 5,
   "metadata": {
    "scrolled": true
   },
   "outputs": [
    {
     "data": {
      "text/plain": [
       "(286500, 18)"
      ]
     },
     "execution_count": 5,
     "metadata": {},
     "output_type": "execute_result"
    }
   ],
   "source": [
    "# Dimension of data\n",
    "df.count(), len(df.columns)"
   ]
  },
  {
   "cell_type": "markdown",
   "metadata": {},
   "source": [
    "This dataset has 286500 rows and 18 columns. "
   ]
  },
  {
   "cell_type": "code",
   "execution_count": 6,
   "metadata": {},
   "outputs": [
    {
     "name": "stdout",
     "output_type": "stream",
     "text": [
      "root\n",
      " |-- artist: string (nullable = true)\n",
      " |-- auth: string (nullable = true)\n",
      " |-- firstName: string (nullable = true)\n",
      " |-- gender: string (nullable = true)\n",
      " |-- itemInSession: long (nullable = true)\n",
      " |-- lastName: string (nullable = true)\n",
      " |-- length: double (nullable = true)\n",
      " |-- level: string (nullable = true)\n",
      " |-- location: string (nullable = true)\n",
      " |-- method: string (nullable = true)\n",
      " |-- page: string (nullable = true)\n",
      " |-- registration: long (nullable = true)\n",
      " |-- sessionId: long (nullable = true)\n",
      " |-- song: string (nullable = true)\n",
      " |-- status: long (nullable = true)\n",
      " |-- ts: long (nullable = true)\n",
      " |-- userAgent: string (nullable = true)\n",
      " |-- userId: string (nullable = true)\n",
      "\n"
     ]
    }
   ],
   "source": [
    "df.printSchema()"
   ]
  },
  {
   "cell_type": "code",
   "execution_count": 7,
   "metadata": {},
   "outputs": [
    {
     "data": {
      "text/html": [
       "<div>\n",
       "<style scoped>\n",
       "    .dataframe tbody tr th:only-of-type {\n",
       "        vertical-align: middle;\n",
       "    }\n",
       "\n",
       "    .dataframe tbody tr th {\n",
       "        vertical-align: top;\n",
       "    }\n",
       "\n",
       "    .dataframe thead th {\n",
       "        text-align: right;\n",
       "    }\n",
       "</style>\n",
       "<table border=\"1\" class=\"dataframe\">\n",
       "  <thead>\n",
       "    <tr style=\"text-align: right;\">\n",
       "      <th></th>\n",
       "      <th>itemInSession</th>\n",
       "      <th>length</th>\n",
       "      <th>registration</th>\n",
       "      <th>sessionId</th>\n",
       "      <th>status</th>\n",
       "      <th>ts</th>\n",
       "    </tr>\n",
       "  </thead>\n",
       "  <tbody>\n",
       "    <tr>\n",
       "      <th>count</th>\n",
       "      <td>286500.000000</td>\n",
       "      <td>228108.000000</td>\n",
       "      <td>2.781540e+05</td>\n",
       "      <td>286500.000000</td>\n",
       "      <td>286500.000000</td>\n",
       "      <td>2.865000e+05</td>\n",
       "    </tr>\n",
       "    <tr>\n",
       "      <th>mean</th>\n",
       "      <td>114.414213</td>\n",
       "      <td>249.117182</td>\n",
       "      <td>1.535359e+12</td>\n",
       "      <td>1041.526555</td>\n",
       "      <td>210.054597</td>\n",
       "      <td>1.540957e+12</td>\n",
       "    </tr>\n",
       "    <tr>\n",
       "      <th>std</th>\n",
       "      <td>129.767262</td>\n",
       "      <td>99.235179</td>\n",
       "      <td>3.291322e+09</td>\n",
       "      <td>726.776263</td>\n",
       "      <td>31.505078</td>\n",
       "      <td>1.507544e+09</td>\n",
       "    </tr>\n",
       "    <tr>\n",
       "      <th>min</th>\n",
       "      <td>0.000000</td>\n",
       "      <td>0.783220</td>\n",
       "      <td>1.521381e+12</td>\n",
       "      <td>1.000000</td>\n",
       "      <td>200.000000</td>\n",
       "      <td>1.538352e+12</td>\n",
       "    </tr>\n",
       "    <tr>\n",
       "      <th>25%</th>\n",
       "      <td>27.000000</td>\n",
       "      <td>199.888530</td>\n",
       "      <td>1.533522e+12</td>\n",
       "      <td>336.000000</td>\n",
       "      <td>200.000000</td>\n",
       "      <td>1.539697e+12</td>\n",
       "    </tr>\n",
       "    <tr>\n",
       "      <th>50%</th>\n",
       "      <td>70.000000</td>\n",
       "      <td>234.500770</td>\n",
       "      <td>1.536664e+12</td>\n",
       "      <td>1013.000000</td>\n",
       "      <td>200.000000</td>\n",
       "      <td>1.540932e+12</td>\n",
       "    </tr>\n",
       "    <tr>\n",
       "      <th>75%</th>\n",
       "      <td>156.250000</td>\n",
       "      <td>277.158730</td>\n",
       "      <td>1.537672e+12</td>\n",
       "      <td>1675.000000</td>\n",
       "      <td>200.000000</td>\n",
       "      <td>1.542266e+12</td>\n",
       "    </tr>\n",
       "    <tr>\n",
       "      <th>max</th>\n",
       "      <td>1321.000000</td>\n",
       "      <td>3024.665670</td>\n",
       "      <td>1.543247e+12</td>\n",
       "      <td>2474.000000</td>\n",
       "      <td>404.000000</td>\n",
       "      <td>1.543799e+12</td>\n",
       "    </tr>\n",
       "  </tbody>\n",
       "</table>\n",
       "</div>"
      ],
      "text/plain": [
       "       itemInSession         length  registration      sessionId  \\\n",
       "count  286500.000000  228108.000000  2.781540e+05  286500.000000   \n",
       "mean      114.414213     249.117182  1.535359e+12    1041.526555   \n",
       "std       129.767262      99.235179  3.291322e+09     726.776263   \n",
       "min         0.000000       0.783220  1.521381e+12       1.000000   \n",
       "25%        27.000000     199.888530  1.533522e+12     336.000000   \n",
       "50%        70.000000     234.500770  1.536664e+12    1013.000000   \n",
       "75%       156.250000     277.158730  1.537672e+12    1675.000000   \n",
       "max      1321.000000    3024.665670  1.543247e+12    2474.000000   \n",
       "\n",
       "              status            ts  \n",
       "count  286500.000000  2.865000e+05  \n",
       "mean      210.054597  1.540957e+12  \n",
       "std        31.505078  1.507544e+09  \n",
       "min       200.000000  1.538352e+12  \n",
       "25%       200.000000  1.539697e+12  \n",
       "50%       200.000000  1.540932e+12  \n",
       "75%       200.000000  1.542266e+12  \n",
       "max       404.000000  1.543799e+12  "
      ]
     },
     "execution_count": 7,
     "metadata": {},
     "output_type": "execute_result"
    }
   ],
   "source": [
    "# Statistic\n",
    "df.toPandas().describe()"
   ]
  },
  {
   "cell_type": "code",
   "execution_count": 8,
   "metadata": {},
   "outputs": [
    {
     "data": {
      "text/plain": [
       "itemInSession    2.480746\n",
       "length           5.338281\n",
       "registration    -1.586332\n",
       "sessionId        0.217484\n",
       "status           2.868533\n",
       "ts               0.062416\n",
       "dtype: float64"
      ]
     },
     "execution_count": 8,
     "metadata": {},
     "output_type": "execute_result"
    }
   ],
   "source": [
    "# Skewness\n",
    "df.toPandas().skew(axis=0, skipna=True)"
   ]
  },
  {
   "cell_type": "code",
   "execution_count": 9,
   "metadata": {},
   "outputs": [
    {
     "data": {
      "text/plain": [
       "itemInSession     9.961081\n",
       "length           85.489538\n",
       "registration      3.205200\n",
       "sessionId        -1.309083\n",
       "status            6.573906\n",
       "ts               -1.172516\n",
       "dtype: float64"
      ]
     },
     "execution_count": 9,
     "metadata": {},
     "output_type": "execute_result"
    }
   ],
   "source": [
    "# Kurtosis\n",
    "df.toPandas().kurt(axis=0, skipna=True)"
   ]
  },
  {
   "cell_type": "code",
   "execution_count": 10,
   "metadata": {
    "scrolled": false
   },
   "outputs": [
    {
     "name": "stdout",
     "output_type": "stream",
     "text": [
      "+-------+-----------------+\n",
      "|summary|           userId|\n",
      "+-------+-----------------+\n",
      "|  count|           286500|\n",
      "|   mean|59682.02278593872|\n",
      "| stddev|109091.9499991047|\n",
      "|    min|                 |\n",
      "|    max|               99|\n",
      "+-------+-----------------+\n",
      "\n"
     ]
    }
   ],
   "source": [
    "df.describe(\"userId\").show()"
   ]
  },
  {
   "cell_type": "code",
   "execution_count": 11,
   "metadata": {
    "scrolled": true
   },
   "outputs": [
    {
     "data": {
      "text/plain": [
       "8346"
      ]
     },
     "execution_count": 11,
     "metadata": {},
     "output_type": "execute_result"
    }
   ],
   "source": [
    "# Missing values for userId\n",
    "df.filter((df[\"userId\"] == \"\") | df[\"userId\"].isNull() | isnan(df[\"userId\"])).count()"
   ]
  },
  {
   "cell_type": "code",
   "execution_count": 12,
   "metadata": {},
   "outputs": [],
   "source": [
    "# Filter NaN row\n",
    "df = df.filter(df.userId != \"\")"
   ]
  },
  {
   "cell_type": "markdown",
   "metadata": {},
   "source": [
    "# Exploratory Data Analysis\n",
    "When you're working with the full dataset, perform EDA by loading a small subset of the data and doing basic manipulations within Spark. In this workspace, you are already provided a small subset of data you can explore.\n",
    "\n",
    "### Define Churn\n",
    "\n",
    "Once you've done some preliminary analysis, create a column `Churn` to use as the label for your model. I suggest using the `Cancellation Confirmation` events to define your churn, which happen for both paid and free users. As a bonus task, you can also look into the `Downgrade` events.\n",
    "\n",
    "### Explore Data\n",
    "Once you've defined churn, perform some exploratory data analysis to observe the behavior for users who stayed vs users who churned. You can start by exploring aggregates on these two groups of users, observing how much of a specific action they experienced per a certain time unit or number of songs played."
   ]
  },
  {
   "cell_type": "markdown",
   "metadata": {},
   "source": [
    "Define Churn Users:"
   ]
  },
  {
   "cell_type": "code",
   "execution_count": 13,
   "metadata": {},
   "outputs": [],
   "source": [
    "# Change to pandas DataFrame\n",
    "df_pandas = df.toPandas()"
   ]
  },
  {
   "cell_type": "code",
   "execution_count": 14,
   "metadata": {},
   "outputs": [
    {
     "data": {
      "text/plain": [
       "array(['NextSong', 'Add to Playlist', 'Roll Advert', 'Thumbs Up',\n",
       "       'Downgrade', 'Thumbs Down', 'Home', 'Logout', 'Help', 'Upgrade',\n",
       "       'Add Friend', 'Settings', 'Submit Upgrade', 'About',\n",
       "       'Submit Downgrade', 'Error', 'Save Settings', 'Cancel',\n",
       "       'Cancellation Confirmation'], dtype=object)"
      ]
     },
     "execution_count": 14,
     "metadata": {},
     "output_type": "execute_result"
    }
   ],
   "source": [
    "df_pandas[\"page\"].unique()"
   ]
  },
  {
   "cell_type": "code",
   "execution_count": 15,
   "metadata": {},
   "outputs": [],
   "source": [
    "# List of churned users\n",
    "churned_users = list(df_pandas[(df_pandas[\"page\"] == \"Cancellation Confirmation\") | (df_pandas[\"page\"] == \"Submit Downgrade\")][\"userId\"].unique())"
   ]
  },
  {
   "cell_type": "code",
   "execution_count": 16,
   "metadata": {},
   "outputs": [],
   "source": [
    "# List of users\n",
    "users = list(df_pandas[\"userId\"].unique())"
   ]
  },
  {
   "cell_type": "markdown",
   "metadata": {},
   "source": [
    "Compare the behavior of churn in gender:"
   ]
  },
  {
   "cell_type": "code",
   "execution_count": 17,
   "metadata": {},
   "outputs": [],
   "source": [
    "# Create a dictionary of user and gender\n",
    "from collections import defaultdict\n",
    "user_gender = defaultdict(str)\n",
    "\n",
    "for user in users:\n",
    "    user_gender[user] = df_pandas.loc[df_pandas[\"userId\"]==user][\"gender\"].values[0]"
   ]
  },
  {
   "cell_type": "code",
   "execution_count": 18,
   "metadata": {},
   "outputs": [],
   "source": [
    "user_gender_df = pd.DataFrame({\"UserId\": list(user_gender.keys()), \"Gender\": list(user_gender.values())})"
   ]
  },
  {
   "cell_type": "code",
   "execution_count": 19,
   "metadata": {},
   "outputs": [],
   "source": [
    "user_gender_df[\"Churn\"] = user_gender_df[\"UserId\"].apply(lambda x: 1 if x in churned_users else 0)"
   ]
  },
  {
   "cell_type": "code",
   "execution_count": 20,
   "metadata": {},
   "outputs": [
    {
     "data": {
      "text/html": [
       "<div>\n",
       "<style scoped>\n",
       "    .dataframe tbody tr th:only-of-type {\n",
       "        vertical-align: middle;\n",
       "    }\n",
       "\n",
       "    .dataframe tbody tr th {\n",
       "        vertical-align: top;\n",
       "    }\n",
       "\n",
       "    .dataframe thead th {\n",
       "        text-align: right;\n",
       "    }\n",
       "</style>\n",
       "<table border=\"1\" class=\"dataframe\">\n",
       "  <thead>\n",
       "    <tr style=\"text-align: right;\">\n",
       "      <th></th>\n",
       "      <th>UserId</th>\n",
       "      <th>Gender</th>\n",
       "      <th>Churn</th>\n",
       "    </tr>\n",
       "  </thead>\n",
       "  <tbody>\n",
       "    <tr>\n",
       "      <th>0</th>\n",
       "      <td>30</td>\n",
       "      <td>M</td>\n",
       "      <td>1</td>\n",
       "    </tr>\n",
       "    <tr>\n",
       "      <th>1</th>\n",
       "      <td>9</td>\n",
       "      <td>M</td>\n",
       "      <td>1</td>\n",
       "    </tr>\n",
       "    <tr>\n",
       "      <th>2</th>\n",
       "      <td>74</td>\n",
       "      <td>F</td>\n",
       "      <td>1</td>\n",
       "    </tr>\n",
       "    <tr>\n",
       "      <th>3</th>\n",
       "      <td>54</td>\n",
       "      <td>F</td>\n",
       "      <td>1</td>\n",
       "    </tr>\n",
       "    <tr>\n",
       "      <th>4</th>\n",
       "      <td>4</td>\n",
       "      <td>M</td>\n",
       "      <td>0</td>\n",
       "    </tr>\n",
       "  </tbody>\n",
       "</table>\n",
       "</div>"
      ],
      "text/plain": [
       "  UserId Gender  Churn\n",
       "0     30      M      1\n",
       "1      9      M      1\n",
       "2     74      F      1\n",
       "3     54      F      1\n",
       "4      4      M      0"
      ]
     },
     "execution_count": 20,
     "metadata": {},
     "output_type": "execute_result"
    }
   ],
   "source": [
    "user_gender_df.head()"
   ]
  },
  {
   "cell_type": "code",
   "execution_count": 21,
   "metadata": {},
   "outputs": [
    {
     "data": {
      "text/plain": [
       "[Text(0.5,1,'Graph of Number of Churn Users VS Gender')]"
      ]
     },
     "execution_count": 21,
     "metadata": {},
     "output_type": "execute_result"
    },
    {
     "data": {
      "image/png": "[encoded data removed]",
      "text/plain": [
       "<matplotlib.figure.Figure at 0x7f5afc6edc88>"
      ]
     },
     "metadata": {
      "needs_background": "light"
     },
     "output_type": "display_data"
    }
   ],
   "source": [
    "sns.countplot(data=user_gender_df, x=\"Gender\", hue=\"Churn\").set(title=\"Graph of Number of Churn Users VS Gender\")"
   ]
  },
  {
   "cell_type": "markdown",
   "metadata": {},
   "source": [
    "From the graph above, the number of churn in the male group is slightly higher than in the female group."
   ]
  },
  {
   "cell_type": "markdown",
   "metadata": {},
   "source": [
    "Compare two levels - free and paid:"
   ]
  },
  {
   "cell_type": "code",
   "execution_count": 22,
   "metadata": {},
   "outputs": [],
   "source": [
    "user_level = defaultdict(str)\n",
    "\n",
    "for user in users:\n",
    "    user_level[user] = df_pandas.loc[df_pandas[\"userId\"]==user][\"level\"].values[0]"
   ]
  },
  {
   "cell_type": "code",
   "execution_count": 23,
   "metadata": {},
   "outputs": [],
   "source": [
    "user_level_df = pd.DataFrame({\"UserId\": list(user_level.keys()), \"Level\": list(user_level.values())})"
   ]
  },
  {
   "cell_type": "code",
   "execution_count": 24,
   "metadata": {},
   "outputs": [],
   "source": [
    "user_level_df[\"Churn\"] = user_level_df[\"UserId\"].apply(lambda x: 1 if x in churned_users else 0)"
   ]
  },
  {
   "cell_type": "code",
   "execution_count": 25,
   "metadata": {},
   "outputs": [
    {
     "data": {
      "text/html": [
       "<div>\n",
       "<style scoped>\n",
       "    .dataframe tbody tr th:only-of-type {\n",
       "        vertical-align: middle;\n",
       "    }\n",
       "\n",
       "    .dataframe tbody tr th {\n",
       "        vertical-align: top;\n",
       "    }\n",
       "\n",
       "    .dataframe thead th {\n",
       "        text-align: right;\n",
       "    }\n",
       "</style>\n",
       "<table border=\"1\" class=\"dataframe\">\n",
       "  <thead>\n",
       "    <tr style=\"text-align: right;\">\n",
       "      <th></th>\n",
       "      <th>UserId</th>\n",
       "      <th>Level</th>\n",
       "      <th>Churn</th>\n",
       "    </tr>\n",
       "  </thead>\n",
       "  <tbody>\n",
       "    <tr>\n",
       "      <th>0</th>\n",
       "      <td>30</td>\n",
       "      <td>paid</td>\n",
       "      <td>1</td>\n",
       "    </tr>\n",
       "    <tr>\n",
       "      <th>1</th>\n",
       "      <td>9</td>\n",
       "      <td>free</td>\n",
       "      <td>1</td>\n",
       "    </tr>\n",
       "    <tr>\n",
       "      <th>2</th>\n",
       "      <td>74</td>\n",
       "      <td>free</td>\n",
       "      <td>1</td>\n",
       "    </tr>\n",
       "    <tr>\n",
       "      <th>3</th>\n",
       "      <td>54</td>\n",
       "      <td>paid</td>\n",
       "      <td>1</td>\n",
       "    </tr>\n",
       "    <tr>\n",
       "      <th>4</th>\n",
       "      <td>4</td>\n",
       "      <td>free</td>\n",
       "      <td>0</td>\n",
       "    </tr>\n",
       "  </tbody>\n",
       "</table>\n",
       "</div>"
      ],
      "text/plain": [
       "  UserId Level  Churn\n",
       "0     30  paid      1\n",
       "1      9  free      1\n",
       "2     74  free      1\n",
       "3     54  paid      1\n",
       "4      4  free      0"
      ]
     },
     "execution_count": 25,
     "metadata": {},
     "output_type": "execute_result"
    }
   ],
   "source": [
    "user_level_df.head()"
   ]
  },
  {
   "cell_type": "code",
   "execution_count": 26,
   "metadata": {},
   "outputs": [
    {
     "data": {
      "text/plain": [
       "[Text(0.5,1,'Graph of Number of Churn Users VS Level')]"
      ]
     },
     "execution_count": 26,
     "metadata": {},
     "output_type": "execute_result"
    },
    {
     "data": {
      "image/png": "[encoded data removed]",
      "text/plain": [
       "<matplotlib.figure.Figure at 0x7f5af198ea58>"
      ]
     },
     "metadata": {
      "needs_background": "light"
     },
     "output_type": "display_data"
    }
   ],
   "source": [
    "sns.countplot(data=user_level_df, x=\"Level\", hue=\"Churn\").set(title=\"Graph of Number of Churn Users VS Level\")"
   ]
  },
  {
   "cell_type": "markdown",
   "metadata": {},
   "source": [
    "Graph above shown that the level of free group has higher number of churn than paid group."
   ]
  },
  {
   "cell_type": "markdown",
   "metadata": {},
   "source": [
    "# Feature Engineering\n",
    "Once you've familiarized yourself with the data, build out the features you find promising to train your model on. To work with the full dataset, you can follow the following steps.\n",
    "- Write a script to extract the necessary features from the smaller subset of data\n",
    "- Ensure that your script is scalable, using the best practices discussed in Lesson 3\n",
    "- Try your script on the full data set, debugging your script if necessary\n",
    "\n",
    "If you are working in the classroom workspace, you can just extract features based on the small subset of data contained here. Be sure to transfer over this work to the larger dataset when you work on your Spark cluster."
   ]
  },
  {
   "cell_type": "markdown",
   "metadata": {},
   "source": [
    "Target Variable: \n",
    "Churn users\n",
    "\n",
    "Feature Variable:\n",
    "Average number of songs per session, thumbs up event, thumbs down event, errors event, add to playlist event, add friend event, total of songs played"
   ]
  },
  {
   "cell_type": "code",
   "execution_count": 27,
   "metadata": {},
   "outputs": [],
   "source": [
    "df.createOrReplaceTempView(\"Table\")"
   ]
  },
  {
   "cell_type": "markdown",
   "metadata": {},
   "source": [
    "Create sql table and visualize average number of songs per session:"
   ]
  },
  {
   "cell_type": "code",
   "execution_count": 28,
   "metadata": {},
   "outputs": [],
   "source": [
    "# Create SQL table for average number of songs per session\n",
    "number_of_sessions = spark.sql(\"SELECT userId, AVG(c) as average\\\n",
    "                                FROM (SELECT userId, COUNT(*) AS c\\\n",
    "                                       FROM Table\\\n",
    "                                      GROUP BY sessionId, userId)\\\n",
    "                                GROUP BY userId\")"
   ]
  },
  {
   "cell_type": "code",
   "execution_count": 29,
   "metadata": {},
   "outputs": [
    {
     "data": {
      "image/png": "[encoded data removed]",
      "text/plain": [
       "<matplotlib.figure.Figure at 0x7f5aefa59208>"
      ]
     },
     "metadata": {
      "needs_background": "light"
     },
     "output_type": "display_data"
    }
   ],
   "source": [
    "# Visualize the number of churn vs average number of songs per session\n",
    "pd_num_sessions = number_of_sessions.toPandas()\n",
    "pd_num_sessions['churn'] = pd_num_sessions['userId'].apply(lambda x: 1 if x in churned_users else 0)\n",
    "sns.boxplot(x=\"churn\", y=\"average\", data=pd_num_sessions).set(title=\"Boxplot of Average No. of Songs per Session VS Number of Churns\");"
   ]
  },
  {
   "cell_type": "markdown",
   "metadata": {},
   "source": [
    "Create sql table and visualize thumbs up event:"
   ]
  },
  {
   "cell_type": "code",
   "execution_count": 30,
   "metadata": {},
   "outputs": [],
   "source": [
    "# Create SQL table for thumbs up event\n",
    "thumbs_up = spark.sql(\"SELECT userId, COUNT(*) AS count_thumbs_up\\\n",
    "                       FROM Table\\\n",
    "                       WHERE page = 'Thumbs Up'\\\n",
    "                       GROUP BY userId\")"
   ]
  },
  {
   "cell_type": "code",
   "execution_count": 31,
   "metadata": {},
   "outputs": [
    {
     "data": {
      "text/plain": [
       "[Text(0.5,1,'Boxplot of Thumbs up VS Number of Churns')]"
      ]
     },
     "execution_count": 31,
     "metadata": {},
     "output_type": "execute_result"
    },
    {
     "data": {
      "image/png": "[encoded data removed]",
      "text/plain": [
       "<matplotlib.figure.Figure at 0x7f5af1da69e8>"
      ]
     },
     "metadata": {
      "needs_background": "light"
     },
     "output_type": "display_data"
    }
   ],
   "source": [
    "# Visualize the number of churn vs thumbs up event \n",
    "pd_thumbs_up = thumbs_up.toPandas()\n",
    "pd_thumbs_up['churn'] = pd_thumbs_up['userId'].apply(lambda x: 1 if x in churned_users else 0)\n",
    "sns.boxplot(x=\"churn\", y=\"count_thumbs_up\", data=pd_thumbs_up).set(title=\"Boxplot of Thumbs up VS Number of Churns\")"
   ]
  },
  {
   "cell_type": "markdown",
   "metadata": {},
   "source": [
    "Create sql table and visualize thumbs down event:"
   ]
  },
  {
   "cell_type": "code",
   "execution_count": 32,
   "metadata": {},
   "outputs": [],
   "source": [
    "# Create SQL table for thumbs down event\n",
    "thumbs_down = spark.sql(\"SELECT userId, COUNT(*) AS count_thumbs_down\\\n",
    "                         FROM Table\\\n",
    "                         WHERE page = 'Thumbs Down'\\\n",
    "                         GROUP BY userId\")"
   ]
  },
  {
   "cell_type": "code",
   "execution_count": 33,
   "metadata": {
    "scrolled": true
   },
   "outputs": [
    {
     "data": {
      "text/plain": [
       "[Text(0.5,1,'Boxplot of Thumbs Down VS Number of Churns')]"
      ]
     },
     "execution_count": 33,
     "metadata": {},
     "output_type": "execute_result"
    },
    {
     "data": {
      "image/png": "[encoded data removed]",
      "text/plain": [
       "<matplotlib.figure.Figure at 0x7f5af28c7048>"
      ]
     },
     "metadata": {
      "needs_background": "light"
     },
     "output_type": "display_data"
    }
   ],
   "source": [
    "# Visualize the number of churn vs thumbs down event \n",
    "pd_thumbs_down = thumbs_down.toPandas()\n",
    "pd_thumbs_down['churn'] = pd_thumbs_down['userId'].apply(lambda x: 1 if x in churned_users else 0)\n",
    "sns.boxplot(x=\"churn\", y=\"count_thumbs_down\", data=pd_thumbs_down).set(title=\"Boxplot of Thumbs Down VS Number of Churns\")"
   ]
  },
  {
   "cell_type": "markdown",
   "metadata": {},
   "source": [
    "Create sql table and visualize errors event:"
   ]
  },
  {
   "cell_type": "code",
   "execution_count": 34,
   "metadata": {},
   "outputs": [],
   "source": [
    "# Create SQL table for error event\n",
    "errors = spark.sql(\"SELECT userId, count(*) AS count_errors\\\n",
    "                    FROM Table\\\n",
    "                    WHERE page = 'Error'\\\n",
    "                    GROUP BY userId\")"
   ]
  },
  {
   "cell_type": "code",
   "execution_count": 35,
   "metadata": {
    "scrolled": true
   },
   "outputs": [
    {
     "data": {
      "text/plain": [
       "[Text(0.5,1,'Boxplot of Errors VS Number of Churns')]"
      ]
     },
     "execution_count": 35,
     "metadata": {},
     "output_type": "execute_result"
    },
    {
     "data": {
      "image/png": "[encoded data removed]",
      "text/plain": [
       "<matplotlib.figure.Figure at 0x7f5afbd5d7b8>"
      ]
     },
     "metadata": {
      "needs_background": "light"
     },
     "output_type": "display_data"
    }
   ],
   "source": [
    "# Visualize the number of churn vs errors event\n",
    "pd_errors = errors.toPandas()\n",
    "pd_errors['churn'] = pd_errors['userId'].apply(lambda x: 1 if x in churned_users else 0)\n",
    "sns.boxplot(x=\"churn\", y=\"count_errors\", data=pd_errors).set(title=\"Boxplot of Errors VS Number of Churns\")"
   ]
  },
  {
   "cell_type": "markdown",
   "metadata": {},
   "source": [
    "Create sql table and visualize add to playlist event:"
   ]
  },
  {
   "cell_type": "code",
   "execution_count": 36,
   "metadata": {},
   "outputs": [],
   "source": [
    "# Create SQL table for add to playlist event\n",
    "add_to_playlist = spark.sql(\"SELECT userId, count(*) as count_add_to_playlist\\\n",
    "                             FROM Table\\\n",
    "                             WHERE page = 'Add to Playlist'\\\n",
    "                             GROUP BY userId\")"
   ]
  },
  {
   "cell_type": "code",
   "execution_count": 37,
   "metadata": {
    "scrolled": true
   },
   "outputs": [
    {
     "data": {
      "text/plain": [
       "[Text(0.5,1,'Boxplot of Add to Playlist VS Number of Churns')]"
      ]
     },
     "execution_count": 37,
     "metadata": {},
     "output_type": "execute_result"
    },
    {
     "data": {
      "image/png": "[encoded data removed]",
      "text/plain": [
       "<matplotlib.figure.Figure at 0x7f5af28b7278>"
      ]
     },
     "metadata": {
      "needs_background": "light"
     },
     "output_type": "display_data"
    }
   ],
   "source": [
    "# Visualize the number of churn vs add to playlist event\n",
    "pd_add_to_playlist = add_to_playlist.toPandas()\n",
    "pd_add_to_playlist['churn'] = pd_add_to_playlist['userId'].apply(lambda x: 1 if x in churned_users else 0)\n",
    "sns.boxplot(x=\"churn\", y=\"count_add_to_playlist\", data=pd_add_to_playlist).set(title=\"Boxplot of Add to Playlist VS Number of Churns\")"
   ]
  },
  {
   "cell_type": "markdown",
   "metadata": {},
   "source": [
    "Create sql table and visualize add friend event:"
   ]
  },
  {
   "cell_type": "code",
   "execution_count": 38,
   "metadata": {},
   "outputs": [],
   "source": [
    "# Create SQL table for add friend event\n",
    "add_to_friends = spark.sql(\"SELECT userId, count(*) as count_add_friends\\\n",
    "                            FROM Table\\\n",
    "                            WHERE page = 'Add Friend'\\\n",
    "                            GROUP BY userId\")"
   ]
  },
  {
   "cell_type": "code",
   "execution_count": 39,
   "metadata": {},
   "outputs": [
    {
     "data": {
      "text/plain": [
       "[Text(0.5,1,'Boxplot of Add Friends VS Number of Churns')]"
      ]
     },
     "execution_count": 39,
     "metadata": {},
     "output_type": "execute_result"
    },
    {
     "data": {
      "image/png": "[encoded data removed]",
      "text/plain": [
       "<matplotlib.figure.Figure at 0x7f5af84a34e0>"
      ]
     },
     "metadata": {
      "needs_background": "light"
     },
     "output_type": "display_data"
    }
   ],
   "source": [
    "# Visualize the number of churn vs add friend event\n",
    "pd_add_to_friends = add_to_friends.toPandas()\n",
    "pd_add_to_friends['churn'] = pd_add_to_friends['userId'].apply(lambda x: 1 if x in churned_users else 0)\n",
    "sns.boxplot(x=\"churn\", y=\"count_add_friends\", data=pd_add_to_friends).set(title=\"Boxplot of Add Friends VS Number of Churns\")"
   ]
  },
  {
   "cell_type": "markdown",
   "metadata": {},
   "source": [
    "Create sql table and visualize total of songs played:"
   ]
  },
  {
   "cell_type": "code",
   "execution_count": 40,
   "metadata": {},
   "outputs": [],
   "source": [
    "# Create SQL table for total of song played\n",
    "total_songs = spark.sql(\"SELECT userId, count(*) as count_total_songs\\\n",
    "                         FROM Table\\\n",
    "                         GROUP BY userId\")"
   ]
  },
  {
   "cell_type": "code",
   "execution_count": 41,
   "metadata": {
    "scrolled": true
   },
   "outputs": [
    {
     "data": {
      "text/plain": [
       "[Text(0.5,1,'Boxplot of Total Songs VS Number of Churns')]"
      ]
     },
     "execution_count": 41,
     "metadata": {},
     "output_type": "execute_result"
    },
    {
     "data": {
      "image/png": "[encoded data removed]",
      "text/plain": [
       "<matplotlib.figure.Figure at 0x7f5af4e91828>"
      ]
     },
     "metadata": {
      "needs_background": "light"
     },
     "output_type": "display_data"
    }
   ],
   "source": [
    "# Visualize the number of churn vs total of songs played\n",
    "pd_total_songs = total_songs.toPandas()\n",
    "pd_total_songs['churn'] = pd_total_songs['userId'].apply(lambda x: 1 if x in churned_users else 0)\n",
    "sns.boxplot(x=\"churn\", y=\"count_total_songs\", data=pd_total_songs).set(title=\"Boxplot of Total Songs VS Number of Churns\")"
   ]
  },
  {
   "cell_type": "markdown",
   "metadata": {},
   "source": [
    "# Prepare Data for Modeling"
   ]
  },
  {
   "cell_type": "code",
   "execution_count": 42,
   "metadata": {},
   "outputs": [],
   "source": [
    "# Create SQL table for churned users\n",
    "a = spark.sql(\"SELECT userId, CASE WHEN page = 'Submit Downgrade' OR page = 'Cancellation Confirmation' THEN 1 END AS churn\\\n",
    "              FROM Table\")\n",
    "a.createOrReplaceTempView('churn_table')\n",
    "b = spark.sql(\"SELECT * FROM churn_table WHERE churn IS NOT NULL\")\n",
    "b.createOrReplaceTempView('churn_users')"
   ]
  },
  {
   "cell_type": "code",
   "execution_count": 43,
   "metadata": {},
   "outputs": [
    {
     "name": "stdout",
     "output_type": "stream",
     "text": [
      "+------+-----+\n",
      "|userId|churn|\n",
      "+------+-----+\n",
      "|   131|    1|\n",
      "|    38|    1|\n",
      "|   141|    1|\n",
      "|    18|    1|\n",
      "|    30|    1|\n",
      "+------+-----+\n",
      "only showing top 5 rows\n",
      "\n"
     ]
    }
   ],
   "source": [
    "spark.sql(\"select * from churn_users\").show(5)"
   ]
  },
  {
   "cell_type": "code",
   "execution_count": 44,
   "metadata": {},
   "outputs": [],
   "source": [
    "# Join all variables into one SQL table\n",
    "temp1 = thumbs_down.join(thumbs_up, thumbs_down.userId == thumbs_up.userId).drop(thumbs_up.userId)\n",
    "temp2 = temp1.join(errors, errors.userId == temp1.userId).drop(errors.userId)\n",
    "temp3 = temp2.join(add_to_playlist, add_to_playlist.userId == temp2.userId).drop(add_to_playlist.userId)\n",
    "temp4 = temp3.join(add_to_friends, add_to_friends.userId == temp3.userId).drop(add_to_friends.userId)\n",
    "temp5 = temp4.join(total_songs, total_songs.userId == temp4.userId).drop(total_songs.userId)\n",
    "temp6 = temp5.join(number_of_sessions, number_of_sessions.userId == temp5.userId).drop(number_of_sessions.userId)\n",
    "temp7 = temp6.join(b, b.userId == temp6.userId, \"left_outer\").drop(b.userId)"
   ]
  },
  {
   "cell_type": "code",
   "execution_count": 45,
   "metadata": {},
   "outputs": [],
   "source": [
    "# Create a temporary table and form a dataset for modeling\n",
    "temp7.createOrReplaceTempView('temp_table')\n",
    "train_test_df = spark.sql(\"SELECT userId, count_thumbs_down, count_thumbs_up, count_errors, count_add_to_playlist,\\\n",
    "                          count_add_friends, count_total_songs, average, CASE WHEN churn IS NULL THEN 0 ELSE 1 END AS label\\\n",
    "                          FROM temp_table\")"
   ]
  },
  {
   "cell_type": "code",
   "execution_count": 46,
   "metadata": {
    "scrolled": true
   },
   "outputs": [
    {
     "data": {
      "text/html": [
       "<div>\n",
       "<style scoped>\n",
       "    .dataframe tbody tr th:only-of-type {\n",
       "        vertical-align: middle;\n",
       "    }\n",
       "\n",
       "    .dataframe tbody tr th {\n",
       "        vertical-align: top;\n",
       "    }\n",
       "\n",
       "    .dataframe thead th {\n",
       "        text-align: right;\n",
       "    }\n",
       "</style>\n",
       "<table border=\"1\" class=\"dataframe\">\n",
       "  <thead>\n",
       "    <tr style=\"text-align: right;\">\n",
       "      <th></th>\n",
       "      <th>userId</th>\n",
       "      <th>count_thumbs_down</th>\n",
       "      <th>count_thumbs_up</th>\n",
       "      <th>count_errors</th>\n",
       "      <th>count_add_to_playlist</th>\n",
       "      <th>count_add_friends</th>\n",
       "      <th>count_total_songs</th>\n",
       "      <th>average</th>\n",
       "      <th>label</th>\n",
       "    </tr>\n",
       "  </thead>\n",
       "  <tbody>\n",
       "    <tr>\n",
       "      <th>0</th>\n",
       "      <td>51</td>\n",
       "      <td>21</td>\n",
       "      <td>100</td>\n",
       "      <td>1</td>\n",
       "      <td>52</td>\n",
       "      <td>28</td>\n",
       "      <td>2464</td>\n",
       "      <td>246.400000</td>\n",
       "      <td>1</td>\n",
       "    </tr>\n",
       "    <tr>\n",
       "      <th>1</th>\n",
       "      <td>124</td>\n",
       "      <td>41</td>\n",
       "      <td>171</td>\n",
       "      <td>6</td>\n",
       "      <td>118</td>\n",
       "      <td>74</td>\n",
       "      <td>4825</td>\n",
       "      <td>166.379310</td>\n",
       "      <td>0</td>\n",
       "    </tr>\n",
       "    <tr>\n",
       "      <th>2</th>\n",
       "      <td>7</td>\n",
       "      <td>1</td>\n",
       "      <td>7</td>\n",
       "      <td>1</td>\n",
       "      <td>5</td>\n",
       "      <td>1</td>\n",
       "      <td>201</td>\n",
       "      <td>28.714286</td>\n",
       "      <td>0</td>\n",
       "    </tr>\n",
       "    <tr>\n",
       "      <th>3</th>\n",
       "      <td>15</td>\n",
       "      <td>14</td>\n",
       "      <td>81</td>\n",
       "      <td>2</td>\n",
       "      <td>59</td>\n",
       "      <td>31</td>\n",
       "      <td>2278</td>\n",
       "      <td>151.866667</td>\n",
       "      <td>0</td>\n",
       "    </tr>\n",
       "    <tr>\n",
       "      <th>4</th>\n",
       "      <td>54</td>\n",
       "      <td>29</td>\n",
       "      <td>163</td>\n",
       "      <td>1</td>\n",
       "      <td>72</td>\n",
       "      <td>33</td>\n",
       "      <td>3437</td>\n",
       "      <td>92.891892</td>\n",
       "      <td>1</td>\n",
       "    </tr>\n",
       "  </tbody>\n",
       "</table>\n",
       "</div>"
      ],
      "text/plain": [
       "  userId  count_thumbs_down  count_thumbs_up  count_errors  \\\n",
       "0     51                 21              100             1   \n",
       "1    124                 41              171             6   \n",
       "2      7                  1                7             1   \n",
       "3     15                 14               81             2   \n",
       "4     54                 29              163             1   \n",
       "\n",
       "   count_add_to_playlist  count_add_friends  count_total_songs     average  \\\n",
       "0                     52                 28               2464  246.400000   \n",
       "1                    118                 74               4825  166.379310   \n",
       "2                      5                  1                201   28.714286   \n",
       "3                     59                 31               2278  151.866667   \n",
       "4                     72                 33               3437   92.891892   \n",
       "\n",
       "   label  \n",
       "0      1  \n",
       "1      0  \n",
       "2      0  \n",
       "3      0  \n",
       "4      1  "
      ]
     },
     "execution_count": 46,
     "metadata": {},
     "output_type": "execute_result"
    }
   ],
   "source": [
    "train_test_df.toPandas().head()"
   ]
  },
  {
   "cell_type": "markdown",
   "metadata": {},
   "source": [
    "# Modeling\n",
    "Split the full dataset into train, test, and validation sets. Test out several of the machine learning methods you learned. Evaluate the accuracy of the various models, tuning parameters as necessary. Determine your winning model based on test accuracy and report results on the validation set. Since the churned users are a fairly small subset, I suggest using F1 score as the metric to optimize."
   ]
  },
  {
   "cell_type": "markdown",
   "metadata": {},
   "source": [
    "3 Classification Algorithm Approaches:\n",
    "1. Logistic Regression\n",
    "2. Random Forest \n",
    "3. Gradient Boosting Tree\n",
    "\n",
    "\n",
    "Evaluation Metrics:\n",
    "1. Accuary of model\n",
    "2. F1 score"
   ]
  },
  {
   "cell_type": "code",
   "execution_count": 47,
   "metadata": {},
   "outputs": [],
   "source": [
    "# Split data into a training set and a test set\n",
    "train, test = train_test_df.randomSplit([0.9, 0.1], seed = 42)"
   ]
  },
  {
   "cell_type": "code",
   "execution_count": 48,
   "metadata": {},
   "outputs": [
    {
     "data": {
      "text/plain": [
       "['userId',\n",
       " 'count_thumbs_down',\n",
       " 'count_thumbs_up',\n",
       " 'count_errors',\n",
       " 'count_add_to_playlist',\n",
       " 'count_add_friends',\n",
       " 'count_total_songs',\n",
       " 'average',\n",
       " 'label']"
      ]
     },
     "execution_count": 48,
     "metadata": {},
     "output_type": "execute_result"
    }
   ],
   "source": [
    "train_test_df.columns"
   ]
  },
  {
   "cell_type": "code",
   "execution_count": 49,
   "metadata": {},
   "outputs": [],
   "source": [
    "# Identify feature variables\n",
    "input_col = ['count_thumbs_down', 'count_thumbs_up', 'count_errors', 'count_add_to_playlist', 'count_add_friends', \n",
    "            'count_total_songs', 'average']"
   ]
  },
  {
   "cell_type": "code",
   "execution_count": 50,
   "metadata": {},
   "outputs": [],
   "source": [
    "# Transform the feature variables\n",
    "assembler = VectorAssembler(inputCols=input_col, outputCol=\"features\")\n",
    "scalar = MinMaxScaler(inputCol = \"features\", outputCol=\"scaled_features\")"
   ]
  },
  {
   "cell_type": "markdown",
   "metadata": {},
   "source": [
    "# Logistic Regression"
   ]
  },
  {
   "cell_type": "code",
   "execution_count": 51,
   "metadata": {},
   "outputs": [
    {
     "name": "stdout",
     "output_type": "stream",
     "text": [
      "Accuracy for Logistic Regression Model is:  0.6\n",
      "F1 score for Logistic Regression model is :  0.638095238095238\n"
     ]
    }
   ],
   "source": [
    "from pyspark.ml import Pipeline\n",
    "lr =  LogisticRegression(labelCol=\"label\", featuresCol=\"scaled_features\", maxIter=10, regParam=0.0, elasticNetParam=0)\n",
    "\n",
    "pipeline_lr = Pipeline(stages=[assembler, scalar, lr])\n",
    "\n",
    "paramGrid = ParamGridBuilder()\\\n",
    "            .addGrid(lr.regParam,[0.0, 0.1])\\\n",
    "            .build()\n",
    "\n",
    "crossval_lr = CrossValidator(estimator=pipeline_lr,\n",
    "                             estimatorParamMaps=paramGrid,\n",
    "                             evaluator=MulticlassClassificationEvaluator(),\n",
    "                             numFolds=3)\n",
    "cvModel_lr = crossval_lr.fit(train)\n",
    "cvModel_lr.avgMetrics\n",
    "results_lr = cvModel_lr.transform(test)\n",
    "print(\"Accuracy for Logistic Regression Model is: \", results_lr.filter(results_lr.label == results_lr.prediction).count()/ results_lr.count())\n",
    "evaluator = MulticlassClassificationEvaluator(metricName=\"f1\")\n",
    "score = evaluator.evaluate(results_lr)\n",
    "print(\"F1 score for Logistic Regression model is : \", score)"
   ]
  },
  {
   "cell_type": "code",
   "execution_count": 52,
   "metadata": {},
   "outputs": [
    {
     "name": "stdout",
     "output_type": "stream",
     "text": [
      "The best performing regularization parameter is:  0.1\n"
     ]
    }
   ],
   "source": [
    "print(\"The best performing regularization parameter is: \", cvModel_lr.bestModel.stages[-1]._java_obj.parent().getRegParam())"
   ]
  },
  {
   "cell_type": "markdown",
   "metadata": {},
   "source": [
    "# Random Forest"
   ]
  },
  {
   "cell_type": "code",
   "execution_count": 53,
   "metadata": {},
   "outputs": [
    {
     "name": "stdout",
     "output_type": "stream",
     "text": [
      "Accuracy for Random Forest Model is:  0.6\n",
      "F1 score for Random Forest Model is:  0.6333333333333333\n"
     ]
    }
   ],
   "source": [
    "rf = RandomForestClassifier(labelCol=\"label\", featuresCol=\"scaled_features\", numTrees=10)\n",
    "pipeline_rf = Pipeline(stages=[assembler, scalar, rf])\n",
    "\n",
    "\n",
    "paramGrid = ParamGridBuilder() \\\n",
    "            .addGrid(rf.numTrees,[5, 10]) \\\n",
    "            .build()\n",
    "\n",
    "crossval_rf = CrossValidator(estimator=pipeline_rf,\n",
    "                             estimatorParamMaps=paramGrid,\n",
    "                             evaluator=MulticlassClassificationEvaluator(),\n",
    "                             numFolds=3)\n",
    "\n",
    "cvModel_rf = crossval_rf.fit(train)\n",
    "cvModel_rf.avgMetrics\n",
    "results_rf = cvModel_rf.transform(test)\n",
    "print(\"Accuracy for Random Forest Model is: \", results_rf.filter(results_rf.label == results_rf.prediction).count()/ results_rf.count())\n",
    "\n",
    "evaluator = MulticlassClassificationEvaluator(metricName=\"f1\")\n",
    "score = evaluator.evaluate(results_rf)\n",
    "print(\"F1 score for Random Forest Model is: \", score)"
   ]
  },
  {
   "cell_type": "code",
   "execution_count": 54,
   "metadata": {
    "scrolled": true
   },
   "outputs": [
    {
     "name": "stdout",
     "output_type": "stream",
     "text": [
      "The best value for number of trees is:  10\n"
     ]
    }
   ],
   "source": [
    "print(\"The best value for number of trees is: \", cvModel_rf.bestModel.stages[-1]._java_obj.parent().getNumTrees())"
   ]
  },
  {
   "cell_type": "markdown",
   "metadata": {},
   "source": [
    "# Gradient Boosting Tree"
   ]
  },
  {
   "cell_type": "code",
   "execution_count": 55,
   "metadata": {},
   "outputs": [
    {
     "name": "stdout",
     "output_type": "stream",
     "text": [
      "Accuracy for Gradient Boosting Tree Model is:  0.9\n",
      "F1 score for Gradient Boosting Tree classifier is :  0.9066666666666667\n"
     ]
    }
   ],
   "source": [
    "gbt = GBTClassifier(labelCol=\"label\", featuresCol=\"scaled_features\", maxIter=10)\n",
    "pipeline_gbt = Pipeline(stages=[assembler, scalar, gbt])\n",
    "paramGrid = ParamGridBuilder() \\\n",
    "            .addGrid(gbt.maxIter,[5, 10]) \\\n",
    "            .build()\n",
    "crossval_gbt = CrossValidator(estimator=pipeline_gbt,\n",
    "                              estimatorParamMaps=paramGrid,\n",
    "                              evaluator=MulticlassClassificationEvaluator(),\n",
    "                              numFolds=3, collectSubModels=True)\n",
    "cvModel_gbt = crossval_gbt.fit(train)\n",
    "cvModel_gbt.avgMetrics\n",
    "results_gbt = cvModel_gbt.transform(test)\n",
    "print(\"Accuracy for Gradient Boosting Tree Model is: \", \n",
    "      results_gbt.filter(results_gbt.label == results_gbt.prediction).count()/ results_gbt.count())\n",
    "\n",
    "evaluator = MulticlassClassificationEvaluator(metricName=\"f1\")\n",
    "score = evaluator.evaluate(results_gbt)\n",
    "print(\"F1 score for Gradient Boosting Tree classifier is : \", score)"
   ]
  },
  {
   "cell_type": "code",
   "execution_count": 56,
   "metadata": {},
   "outputs": [
    {
     "name": "stdout",
     "output_type": "stream",
     "text": [
      "The best value for maximum number of iterations is:  10\n"
     ]
    }
   ],
   "source": [
    "print(\"The best value for maximum number of iterations is: \", cvModel_gbt.bestModel.stages[-1]._java_obj.parent().getMaxIter())"
   ]
  },
  {
   "cell_type": "markdown",
   "metadata": {},
   "source": [
    "The accuracy of the Logistic Regression model, the Random Forest model, and the Gradient Boosting Tree model is 0.60, 0.60, and 0.90 respectively, meaning the Gradient Boosting Tree fits the features better. The F1 score of the Logistic Regression model, the Random Forest model, and the Gradient Boosting Tree model is 0.64, 0.63, and 0.91 respectively, meaning the Gradient Boosting Tree model has higher accuracy in predicting churn."
   ]
  },
  {
   "cell_type": "markdown",
   "metadata": {},
   "source": [
    "# Feature Importance of Churn Users"
   ]
  },
  {
   "cell_type": "code",
   "execution_count": 59,
   "metadata": {},
   "outputs": [
    {
     "data": {
      "text/plain": [
       "<matplotlib.axes._subplots.AxesSubplot at 0x7f5af47e6a58>"
      ]
     },
     "execution_count": 59,
     "metadata": {},
     "output_type": "execute_result"
    },
    {
     "data": {
      "image/png": "[encoded data removed]",
      "text/plain": [
       "<matplotlib.figure.Figure at 0x7f5af48fde10>"
      ]
     },
     "metadata": {
      "needs_background": "light"
     },
     "output_type": "display_data"
    }
   ],
   "source": [
    "feature_importances = cvModel_gbt.bestModel.stages[2].featureImportances.values.tolist()\n",
    "feature_importance_df = pd.DataFrame({'feature_importance': feature_importances, 'columns': input_col})\n",
    "sns.barplot(x='feature_importance', y='columns', data=feature_importance_df)"
   ]
  },
  {
   "cell_type": "markdown",
   "metadata": {},
   "source": [
    "From the bar above, count of thumbs up and average number of songs per session are more related to the number of churn of users."
   ]
  },
  {
   "cell_type": "markdown",
   "metadata": {},
   "source": [
    "# Conclusion\n",
    "The number of churns in the male group is slightly higher than in the female group. However, the male group tends to not churn compared to the female group. The level of the free group has a higher churn than the level of the paid group. The positive feedback from users, the average number of songs per session, and total of played songs are more related to the churn rate of the users. Offer or incentives packages and adding a variety of songs can be implemented to assure the satisfaction of users with the services. The Gradient Boosting Tree model has the highest accuracy and F1 score which can be deployed in predicting the churn rate."
   ]
  },
  {
   "cell_type": "markdown",
   "metadata": {},
   "source": [
    "#  Discussion\n",
    "There are more feature variables that can be added to the model such as the popularity of artists and songs and the length of time that users log in. The weight of feature importance helps Data Scientists in model optimization."
   ]
  },
  {
   "cell_type": "markdown",
   "metadata": {},
   "source": [
    "# Final Steps\n",
    "Clean up your code, adding comments and renaming variables to make the code easier to read and maintain. Refer to the Spark Project Overview page and Data Scientist Capstone Project Rubric to make sure you are including all components of the capstone project and meet all expectations. Remember, this includes thorough documentation in a README file in a Github repository, as well as a web app or blog post."
   ]
  },
  {
   "cell_type": "code",
   "execution_count": null,
   "metadata": {},
   "outputs": [],
   "source": []
  }
 ],
 "metadata": {
  "kernelspec": {
   "display_name": "Python 3",
   "language": "python",
   "name": "python3"
  },
  "language_info": {
   "codemirror_mode": {
    "name": "ipython",
    "version": 3
   },
   "file_extension": ".py",
   "mimetype": "text/x-python",
   "name": "python",
   "nbconvert_exporter": "python",
   "pygments_lexer": "ipython3",
   "version": "3.6.3"
  }
 },
 "nbformat": 4,
 "nbformat_minor": 2
}
