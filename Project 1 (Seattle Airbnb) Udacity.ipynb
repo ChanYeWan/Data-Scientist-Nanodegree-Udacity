{
 "cells": [
  {
   "cell_type": "markdown",
   "id": "7556c9ac",
   "metadata": {
    "papermill": {
     "duration": 0.007632,
     "end_time": "2022-09-29T01:08:06.620007",
     "exception": false,
     "start_time": "2022-09-29T01:08:06.612375",
     "status": "completed"
    },
    "tags": []
   },
   "source": [
    "**1. Business Understanding**\n",
    "\n",
    "Airbnb is an online platform that provides home lodging services around the world. Understanding its market values, experiences and rights of host and guest, and safety concerns can be made through data exploration of the previous data.\n",
    "3 business problems to be observed:\n",
    "1.\tWhat is the peak season in Seattle in a year?\n",
    "2.\tWhich area is the crowdest in Seattle?\n",
    "3.\tPrice prediction\n",
    "\n",
    "**2. Data Understanding**\n",
    "\n",
    "There are 3 datasets provided:\n",
    "1.\tCalendar, including listing id and price for the availability day.\n",
    "2.\tListings, including listings information and its scores.\n",
    "3.\tReviews, including reviewer information and their comments.\n",
    "\n",
    "2 datasets - Calendar and Listings will be used to analyzed.\n",
    "\n",
    "Import relevant libraries and required datasets"
   ]
  },
  {
   "cell_type": "code",
   "execution_count": 1,
   "id": "572ca84e",
   "metadata": {
    "execution": {
     "iopub.execute_input": "2022-09-29T01:08:06.636849Z",
     "iopub.status.busy": "2022-09-29T01:08:06.636217Z",
     "iopub.status.idle": "2022-09-29T01:08:09.768430Z",
     "shell.execute_reply": "2022-09-29T01:08:09.766497Z"
    },
    "papermill": {
     "duration": 3.144,
     "end_time": "2022-09-29T01:08:09.771241",
     "exception": false,
     "start_time": "2022-09-29T01:08:06.627241",
     "status": "completed"
    },
    "tags": []
   },
   "outputs": [],
   "source": [
    "import numpy as np\n",
    "import pandas as pd\n",
    "import matplotlib.pyplot as plt\n",
    "from sklearn.linear_model import LinearRegression\n",
    "from sklearn.model_selection import train_test_split\n",
    "from sklearn.metrics import r2_score, mean_squared_error\n",
    "import seaborn as sns\n",
    "%matplotlib inline\n",
    "\n",
    "calendar = pd.read_csv('/kaggle/input/seattle/calendar.csv')\n",
    "listings = pd.read_csv('/kaggle/input/seattle/listings.csv')"
   ]
  },
  {
   "cell_type": "code",
   "execution_count": 2,
   "id": "8d226de3",
   "metadata": {
    "execution": {
     "iopub.execute_input": "2022-09-29T01:08:09.788469Z",
     "iopub.status.busy": "2022-09-29T01:08:09.788094Z",
     "iopub.status.idle": "2022-09-29T01:08:09.810478Z",
     "shell.execute_reply": "2022-09-29T01:08:09.809050Z"
    },
    "papermill": {
     "duration": 0.033591,
     "end_time": "2022-09-29T01:08:09.812844",
     "exception": false,
     "start_time": "2022-09-29T01:08:09.779253",
     "status": "completed"
    },
    "tags": []
   },
   "outputs": [
    {
     "data": {
      "text/html": [
       "<div>\n",
       "<style scoped>\n",
       "    .dataframe tbody tr th:only-of-type {\n",
       "        vertical-align: middle;\n",
       "    }\n",
       "\n",
       "    .dataframe tbody tr th {\n",
       "        vertical-align: top;\n",
       "    }\n",
       "\n",
       "    .dataframe thead th {\n",
       "        text-align: right;\n",
       "    }\n",
       "</style>\n",
       "<table border=\"1\" class=\"dataframe\">\n",
       "  <thead>\n",
       "    <tr style=\"text-align: right;\">\n",
       "      <th></th>\n",
       "      <th>listing_id</th>\n",
       "      <th>date</th>\n",
       "      <th>available</th>\n",
       "      <th>price</th>\n",
       "    </tr>\n",
       "  </thead>\n",
       "  <tbody>\n",
       "    <tr>\n",
       "      <th>0</th>\n",
       "      <td>241032</td>\n",
       "      <td>2016-01-04</td>\n",
       "      <td>t</td>\n",
       "      <td>$85.00</td>\n",
       "    </tr>\n",
       "    <tr>\n",
       "      <th>1</th>\n",
       "      <td>241032</td>\n",
       "      <td>2016-01-05</td>\n",
       "      <td>t</td>\n",
       "      <td>$85.00</td>\n",
       "    </tr>\n",
       "    <tr>\n",
       "      <th>2</th>\n",
       "      <td>241032</td>\n",
       "      <td>2016-01-06</td>\n",
       "      <td>f</td>\n",
       "      <td>NaN</td>\n",
       "    </tr>\n",
       "    <tr>\n",
       "      <th>3</th>\n",
       "      <td>241032</td>\n",
       "      <td>2016-01-07</td>\n",
       "      <td>f</td>\n",
       "      <td>NaN</td>\n",
       "    </tr>\n",
       "    <tr>\n",
       "      <th>4</th>\n",
       "      <td>241032</td>\n",
       "      <td>2016-01-08</td>\n",
       "      <td>f</td>\n",
       "      <td>NaN</td>\n",
       "    </tr>\n",
       "  </tbody>\n",
       "</table>\n",
       "</div>"
      ],
      "text/plain": [
       "   listing_id        date available   price\n",
       "0      241032  2016-01-04         t  $85.00\n",
       "1      241032  2016-01-05         t  $85.00\n",
       "2      241032  2016-01-06         f     NaN\n",
       "3      241032  2016-01-07         f     NaN\n",
       "4      241032  2016-01-08         f     NaN"
      ]
     },
     "execution_count": 2,
     "metadata": {},
     "output_type": "execute_result"
    }
   ],
   "source": [
    "calendar.head()"
   ]
  },
  {
   "cell_type": "code",
   "execution_count": 3,
   "id": "7ecd0702",
   "metadata": {
    "execution": {
     "iopub.execute_input": "2022-09-29T01:08:09.829630Z",
     "iopub.status.busy": "2022-09-29T01:08:09.829260Z",
     "iopub.status.idle": "2022-09-29T01:08:09.998162Z",
     "shell.execute_reply": "2022-09-29T01:08:09.996524Z"
    },
    "papermill": {
     "duration": 0.180346,
     "end_time": "2022-09-29T01:08:10.000873",
     "exception": false,
     "start_time": "2022-09-29T01:08:09.820527",
     "status": "completed"
    },
    "tags": []
   },
   "outputs": [
    {
     "name": "stdout",
     "output_type": "stream",
     "text": [
      "<class 'pandas.core.frame.DataFrame'>\n",
      "RangeIndex: 1393570 entries, 0 to 1393569\n",
      "Data columns (total 4 columns):\n",
      " #   Column      Non-Null Count    Dtype \n",
      "---  ------      --------------    ----- \n",
      " 0   listing_id  1393570 non-null  int64 \n",
      " 1   date        1393570 non-null  object\n",
      " 2   available   1393570 non-null  object\n",
      " 3   price       934542 non-null   object\n",
      "dtypes: int64(1), object(3)\n",
      "memory usage: 42.5+ MB\n"
     ]
    }
   ],
   "source": [
    "calendar.info()"
   ]
  },
  {
   "cell_type": "code",
   "execution_count": 4,
   "id": "b93320a3",
   "metadata": {
    "execution": {
     "iopub.execute_input": "2022-09-29T01:08:10.017519Z",
     "iopub.status.busy": "2022-09-29T01:08:10.017199Z",
     "iopub.status.idle": "2022-09-29T01:08:10.044926Z",
     "shell.execute_reply": "2022-09-29T01:08:10.043544Z"
    },
    "papermill": {
     "duration": 0.038987,
     "end_time": "2022-09-29T01:08:10.047478",
     "exception": false,
     "start_time": "2022-09-29T01:08:10.008491",
     "status": "completed"
    },
    "tags": []
   },
   "outputs": [
    {
     "data": {
      "text/html": [
       "<div>\n",
       "<style scoped>\n",
       "    .dataframe tbody tr th:only-of-type {\n",
       "        vertical-align: middle;\n",
       "    }\n",
       "\n",
       "    .dataframe tbody tr th {\n",
       "        vertical-align: top;\n",
       "    }\n",
       "\n",
       "    .dataframe thead th {\n",
       "        text-align: right;\n",
       "    }\n",
       "</style>\n",
       "<table border=\"1\" class=\"dataframe\">\n",
       "  <thead>\n",
       "    <tr style=\"text-align: right;\">\n",
       "      <th></th>\n",
       "      <th>id</th>\n",
       "      <th>listing_url</th>\n",
       "      <th>scrape_id</th>\n",
       "      <th>last_scraped</th>\n",
       "      <th>name</th>\n",
       "      <th>summary</th>\n",
       "      <th>space</th>\n",
       "      <th>description</th>\n",
       "      <th>experiences_offered</th>\n",
       "      <th>neighborhood_overview</th>\n",
       "      <th>...</th>\n",
       "      <th>review_scores_value</th>\n",
       "      <th>requires_license</th>\n",
       "      <th>license</th>\n",
       "      <th>jurisdiction_names</th>\n",
       "      <th>instant_bookable</th>\n",
       "      <th>cancellation_policy</th>\n",
       "      <th>require_guest_profile_picture</th>\n",
       "      <th>require_guest_phone_verification</th>\n",
       "      <th>calculated_host_listings_count</th>\n",
       "      <th>reviews_per_month</th>\n",
       "    </tr>\n",
       "  </thead>\n",
       "  <tbody>\n",
       "    <tr>\n",
       "      <th>0</th>\n",
       "      <td>241032</td>\n",
       "      <td>https://www.airbnb.com/rooms/241032</td>\n",
       "      <td>20160104002432</td>\n",
       "      <td>2016-01-04</td>\n",
       "      <td>Stylish Queen Anne Apartment</td>\n",
       "      <td>NaN</td>\n",
       "      <td>Make your self at home in this charming one-be...</td>\n",
       "      <td>Make your self at home in this charming one-be...</td>\n",
       "      <td>none</td>\n",
       "      <td>NaN</td>\n",
       "      <td>...</td>\n",
       "      <td>10.0</td>\n",
       "      <td>f</td>\n",
       "      <td>NaN</td>\n",
       "      <td>WASHINGTON</td>\n",
       "      <td>f</td>\n",
       "      <td>moderate</td>\n",
       "      <td>f</td>\n",
       "      <td>f</td>\n",
       "      <td>2</td>\n",
       "      <td>4.07</td>\n",
       "    </tr>\n",
       "    <tr>\n",
       "      <th>1</th>\n",
       "      <td>953595</td>\n",
       "      <td>https://www.airbnb.com/rooms/953595</td>\n",
       "      <td>20160104002432</td>\n",
       "      <td>2016-01-04</td>\n",
       "      <td>Bright &amp; Airy Queen Anne Apartment</td>\n",
       "      <td>Chemically sensitive? We've removed the irrita...</td>\n",
       "      <td>Beautiful, hypoallergenic apartment in an extr...</td>\n",
       "      <td>Chemically sensitive? We've removed the irrita...</td>\n",
       "      <td>none</td>\n",
       "      <td>Queen Anne is a wonderful, truly functional vi...</td>\n",
       "      <td>...</td>\n",
       "      <td>10.0</td>\n",
       "      <td>f</td>\n",
       "      <td>NaN</td>\n",
       "      <td>WASHINGTON</td>\n",
       "      <td>f</td>\n",
       "      <td>strict</td>\n",
       "      <td>t</td>\n",
       "      <td>t</td>\n",
       "      <td>6</td>\n",
       "      <td>1.48</td>\n",
       "    </tr>\n",
       "    <tr>\n",
       "      <th>2</th>\n",
       "      <td>3308979</td>\n",
       "      <td>https://www.airbnb.com/rooms/3308979</td>\n",
       "      <td>20160104002432</td>\n",
       "      <td>2016-01-04</td>\n",
       "      <td>New Modern House-Amazing water view</td>\n",
       "      <td>New modern house built in 2013.  Spectacular s...</td>\n",
       "      <td>Our house is modern, light and fresh with a wa...</td>\n",
       "      <td>New modern house built in 2013.  Spectacular s...</td>\n",
       "      <td>none</td>\n",
       "      <td>Upper Queen Anne is a charming neighborhood fu...</td>\n",
       "      <td>...</td>\n",
       "      <td>10.0</td>\n",
       "      <td>f</td>\n",
       "      <td>NaN</td>\n",
       "      <td>WASHINGTON</td>\n",
       "      <td>f</td>\n",
       "      <td>strict</td>\n",
       "      <td>f</td>\n",
       "      <td>f</td>\n",
       "      <td>2</td>\n",
       "      <td>1.15</td>\n",
       "    </tr>\n",
       "    <tr>\n",
       "      <th>3</th>\n",
       "      <td>7421966</td>\n",
       "      <td>https://www.airbnb.com/rooms/7421966</td>\n",
       "      <td>20160104002432</td>\n",
       "      <td>2016-01-04</td>\n",
       "      <td>Queen Anne Chateau</td>\n",
       "      <td>A charming apartment that sits atop Queen Anne...</td>\n",
       "      <td>NaN</td>\n",
       "      <td>A charming apartment that sits atop Queen Anne...</td>\n",
       "      <td>none</td>\n",
       "      <td>NaN</td>\n",
       "      <td>...</td>\n",
       "      <td>NaN</td>\n",
       "      <td>f</td>\n",
       "      <td>NaN</td>\n",
       "      <td>WASHINGTON</td>\n",
       "      <td>f</td>\n",
       "      <td>flexible</td>\n",
       "      <td>f</td>\n",
       "      <td>f</td>\n",
       "      <td>1</td>\n",
       "      <td>NaN</td>\n",
       "    </tr>\n",
       "    <tr>\n",
       "      <th>4</th>\n",
       "      <td>278830</td>\n",
       "      <td>https://www.airbnb.com/rooms/278830</td>\n",
       "      <td>20160104002432</td>\n",
       "      <td>2016-01-04</td>\n",
       "      <td>Charming craftsman 3 bdm house</td>\n",
       "      <td>Cozy family craftman house in beautiful neighb...</td>\n",
       "      <td>Cozy family craftman house in beautiful neighb...</td>\n",
       "      <td>Cozy family craftman house in beautiful neighb...</td>\n",
       "      <td>none</td>\n",
       "      <td>We are in the beautiful neighborhood of Queen ...</td>\n",
       "      <td>...</td>\n",
       "      <td>9.0</td>\n",
       "      <td>f</td>\n",
       "      <td>NaN</td>\n",
       "      <td>WASHINGTON</td>\n",
       "      <td>f</td>\n",
       "      <td>strict</td>\n",
       "      <td>f</td>\n",
       "      <td>f</td>\n",
       "      <td>1</td>\n",
       "      <td>0.89</td>\n",
       "    </tr>\n",
       "  </tbody>\n",
       "</table>\n",
       "<p>5 rows × 92 columns</p>\n",
       "</div>"
      ],
      "text/plain": [
       "        id                           listing_url       scrape_id last_scraped  \\\n",
       "0   241032   https://www.airbnb.com/rooms/241032  20160104002432   2016-01-04   \n",
       "1   953595   https://www.airbnb.com/rooms/953595  20160104002432   2016-01-04   \n",
       "2  3308979  https://www.airbnb.com/rooms/3308979  20160104002432   2016-01-04   \n",
       "3  7421966  https://www.airbnb.com/rooms/7421966  20160104002432   2016-01-04   \n",
       "4   278830   https://www.airbnb.com/rooms/278830  20160104002432   2016-01-04   \n",
       "\n",
       "                                  name  \\\n",
       "0         Stylish Queen Anne Apartment   \n",
       "1   Bright & Airy Queen Anne Apartment   \n",
       "2  New Modern House-Amazing water view   \n",
       "3                   Queen Anne Chateau   \n",
       "4       Charming craftsman 3 bdm house   \n",
       "\n",
       "                                             summary  \\\n",
       "0                                                NaN   \n",
       "1  Chemically sensitive? We've removed the irrita...   \n",
       "2  New modern house built in 2013.  Spectacular s...   \n",
       "3  A charming apartment that sits atop Queen Anne...   \n",
       "4  Cozy family craftman house in beautiful neighb...   \n",
       "\n",
       "                                               space  \\\n",
       "0  Make your self at home in this charming one-be...   \n",
       "1  Beautiful, hypoallergenic apartment in an extr...   \n",
       "2  Our house is modern, light and fresh with a wa...   \n",
       "3                                                NaN   \n",
       "4  Cozy family craftman house in beautiful neighb...   \n",
       "\n",
       "                                         description experiences_offered  \\\n",
       "0  Make your self at home in this charming one-be...                none   \n",
       "1  Chemically sensitive? We've removed the irrita...                none   \n",
       "2  New modern house built in 2013.  Spectacular s...                none   \n",
       "3  A charming apartment that sits atop Queen Anne...                none   \n",
       "4  Cozy family craftman house in beautiful neighb...                none   \n",
       "\n",
       "                               neighborhood_overview  ... review_scores_value  \\\n",
       "0                                                NaN  ...                10.0   \n",
       "1  Queen Anne is a wonderful, truly functional vi...  ...                10.0   \n",
       "2  Upper Queen Anne is a charming neighborhood fu...  ...                10.0   \n",
       "3                                                NaN  ...                 NaN   \n",
       "4  We are in the beautiful neighborhood of Queen ...  ...                 9.0   \n",
       "\n",
       "  requires_license license jurisdiction_names instant_bookable  \\\n",
       "0                f     NaN         WASHINGTON                f   \n",
       "1                f     NaN         WASHINGTON                f   \n",
       "2                f     NaN         WASHINGTON                f   \n",
       "3                f     NaN         WASHINGTON                f   \n",
       "4                f     NaN         WASHINGTON                f   \n",
       "\n",
       "  cancellation_policy  require_guest_profile_picture  \\\n",
       "0            moderate                              f   \n",
       "1              strict                              t   \n",
       "2              strict                              f   \n",
       "3            flexible                              f   \n",
       "4              strict                              f   \n",
       "\n",
       "  require_guest_phone_verification calculated_host_listings_count  \\\n",
       "0                                f                              2   \n",
       "1                                t                              6   \n",
       "2                                f                              2   \n",
       "3                                f                              1   \n",
       "4                                f                              1   \n",
       "\n",
       "  reviews_per_month  \n",
       "0              4.07  \n",
       "1              1.48  \n",
       "2              1.15  \n",
       "3               NaN  \n",
       "4              0.89  \n",
       "\n",
       "[5 rows x 92 columns]"
      ]
     },
     "execution_count": 4,
     "metadata": {},
     "output_type": "execute_result"
    }
   ],
   "source": [
    "listings.head()"
   ]
  },
  {
   "cell_type": "code",
   "execution_count": 5,
   "id": "34a8ba1d",
   "metadata": {
    "execution": {
     "iopub.execute_input": "2022-09-29T01:08:10.065680Z",
     "iopub.status.busy": "2022-09-29T01:08:10.065349Z",
     "iopub.status.idle": "2022-09-29T01:08:10.094270Z",
     "shell.execute_reply": "2022-09-29T01:08:10.092760Z"
    },
    "papermill": {
     "duration": 0.041225,
     "end_time": "2022-09-29T01:08:10.096729",
     "exception": false,
     "start_time": "2022-09-29T01:08:10.055504",
     "status": "completed"
    },
    "tags": []
   },
   "outputs": [
    {
     "name": "stdout",
     "output_type": "stream",
     "text": [
      "<class 'pandas.core.frame.DataFrame'>\n",
      "RangeIndex: 3818 entries, 0 to 3817\n",
      "Data columns (total 92 columns):\n",
      " #   Column                            Non-Null Count  Dtype  \n",
      "---  ------                            --------------  -----  \n",
      " 0   id                                3818 non-null   int64  \n",
      " 1   listing_url                       3818 non-null   object \n",
      " 2   scrape_id                         3818 non-null   int64  \n",
      " 3   last_scraped                      3818 non-null   object \n",
      " 4   name                              3818 non-null   object \n",
      " 5   summary                           3641 non-null   object \n",
      " 6   space                             3249 non-null   object \n",
      " 7   description                       3818 non-null   object \n",
      " 8   experiences_offered               3818 non-null   object \n",
      " 9   neighborhood_overview             2786 non-null   object \n",
      " 10  notes                             2212 non-null   object \n",
      " 11  transit                           2884 non-null   object \n",
      " 12  thumbnail_url                     3498 non-null   object \n",
      " 13  medium_url                        3498 non-null   object \n",
      " 14  picture_url                       3818 non-null   object \n",
      " 15  xl_picture_url                    3498 non-null   object \n",
      " 16  host_id                           3818 non-null   int64  \n",
      " 17  host_url                          3818 non-null   object \n",
      " 18  host_name                         3816 non-null   object \n",
      " 19  host_since                        3816 non-null   object \n",
      " 20  host_location                     3810 non-null   object \n",
      " 21  host_about                        2959 non-null   object \n",
      " 22  host_response_time                3295 non-null   object \n",
      " 23  host_response_rate                3295 non-null   object \n",
      " 24  host_acceptance_rate              3045 non-null   object \n",
      " 25  host_is_superhost                 3816 non-null   object \n",
      " 26  host_thumbnail_url                3816 non-null   object \n",
      " 27  host_picture_url                  3816 non-null   object \n",
      " 28  host_neighbourhood                3518 non-null   object \n",
      " 29  host_listings_count               3816 non-null   float64\n",
      " 30  host_total_listings_count         3816 non-null   float64\n",
      " 31  host_verifications                3818 non-null   object \n",
      " 32  host_has_profile_pic              3816 non-null   object \n",
      " 33  host_identity_verified            3816 non-null   object \n",
      " 34  street                            3818 non-null   object \n",
      " 35  neighbourhood                     3402 non-null   object \n",
      " 36  neighbourhood_cleansed            3818 non-null   object \n",
      " 37  neighbourhood_group_cleansed      3818 non-null   object \n",
      " 38  city                              3818 non-null   object \n",
      " 39  state                             3818 non-null   object \n",
      " 40  zipcode                           3811 non-null   object \n",
      " 41  market                            3818 non-null   object \n",
      " 42  smart_location                    3818 non-null   object \n",
      " 43  country_code                      3818 non-null   object \n",
      " 44  country                           3818 non-null   object \n",
      " 45  latitude                          3818 non-null   float64\n",
      " 46  longitude                         3818 non-null   float64\n",
      " 47  is_location_exact                 3818 non-null   object \n",
      " 48  property_type                     3817 non-null   object \n",
      " 49  room_type                         3818 non-null   object \n",
      " 50  accommodates                      3818 non-null   int64  \n",
      " 51  bathrooms                         3802 non-null   float64\n",
      " 52  bedrooms                          3812 non-null   float64\n",
      " 53  beds                              3817 non-null   float64\n",
      " 54  bed_type                          3818 non-null   object \n",
      " 55  amenities                         3818 non-null   object \n",
      " 56  square_feet                       97 non-null     float64\n",
      " 57  price                             3818 non-null   object \n",
      " 58  weekly_price                      2009 non-null   object \n",
      " 59  monthly_price                     1517 non-null   object \n",
      " 60  security_deposit                  1866 non-null   object \n",
      " 61  cleaning_fee                      2788 non-null   object \n",
      " 62  guests_included                   3818 non-null   int64  \n",
      " 63  extra_people                      3818 non-null   object \n",
      " 64  minimum_nights                    3818 non-null   int64  \n",
      " 65  maximum_nights                    3818 non-null   int64  \n",
      " 66  calendar_updated                  3818 non-null   object \n",
      " 67  has_availability                  3818 non-null   object \n",
      " 68  availability_30                   3818 non-null   int64  \n",
      " 69  availability_60                   3818 non-null   int64  \n",
      " 70  availability_90                   3818 non-null   int64  \n",
      " 71  availability_365                  3818 non-null   int64  \n",
      " 72  calendar_last_scraped             3818 non-null   object \n",
      " 73  number_of_reviews                 3818 non-null   int64  \n",
      " 74  first_review                      3191 non-null   object \n",
      " 75  last_review                       3191 non-null   object \n",
      " 76  review_scores_rating              3171 non-null   float64\n",
      " 77  review_scores_accuracy            3160 non-null   float64\n",
      " 78  review_scores_cleanliness         3165 non-null   float64\n",
      " 79  review_scores_checkin             3160 non-null   float64\n",
      " 80  review_scores_communication       3167 non-null   float64\n",
      " 81  review_scores_location            3163 non-null   float64\n",
      " 82  review_scores_value               3162 non-null   float64\n",
      " 83  requires_license                  3818 non-null   object \n",
      " 84  license                           0 non-null      float64\n",
      " 85  jurisdiction_names                3818 non-null   object \n",
      " 86  instant_bookable                  3818 non-null   object \n",
      " 87  cancellation_policy               3818 non-null   object \n",
      " 88  require_guest_profile_picture     3818 non-null   object \n",
      " 89  require_guest_phone_verification  3818 non-null   object \n",
      " 90  calculated_host_listings_count    3818 non-null   int64  \n",
      " 91  reviews_per_month                 3191 non-null   float64\n",
      "dtypes: float64(17), int64(13), object(62)\n",
      "memory usage: 2.7+ MB\n"
     ]
    }
   ],
   "source": [
    "listings.info()"
   ]
  },
  {
   "cell_type": "markdown",
   "id": "ea5f1352",
   "metadata": {
    "papermill": {
     "duration": 0.007714,
     "end_time": "2022-09-29T01:08:10.112764",
     "exception": false,
     "start_time": "2022-09-29T01:08:10.105050",
     "status": "completed"
    },
    "tags": []
   },
   "source": [
    "**3. Data Preparation**\n",
    "\n",
    "Convert data types into correct versions on calendar and listings datasets"
   ]
  },
  {
   "cell_type": "code",
   "execution_count": 6,
   "id": "92cbda00",
   "metadata": {
    "execution": {
     "iopub.execute_input": "2022-09-29T01:08:10.130643Z",
     "iopub.status.busy": "2022-09-29T01:08:10.130291Z",
     "iopub.status.idle": "2022-09-29T01:08:13.229626Z",
     "shell.execute_reply": "2022-09-29T01:08:13.227737Z"
    },
    "papermill": {
     "duration": 3.111169,
     "end_time": "2022-09-29T01:08:13.232509",
     "exception": false,
     "start_time": "2022-09-29T01:08:10.121340",
     "status": "completed"
    },
    "tags": []
   },
   "outputs": [],
   "source": [
    "#Convert integer to string\n",
    "calendar['listing_id'] = calendar['listing_id'].astype(str)\n",
    "\n",
    "#Convert to datetime and extract month and year\n",
    "calendar['date'] = pd.to_datetime(calendar['date'])\n",
    "calendar['month'] = pd.to_datetime(calendar['date']).dt.month\n",
    "\n",
    "#Eliminate and convert to float\n",
    "calendar['price'] = calendar['price'].replace('\\$|,', '', regex=True).astype('float')"
   ]
  },
  {
   "cell_type": "code",
   "execution_count": 7,
   "id": "6f043f0a",
   "metadata": {
    "execution": {
     "iopub.execute_input": "2022-09-29T01:08:13.252571Z",
     "iopub.status.busy": "2022-09-29T01:08:13.252236Z",
     "iopub.status.idle": "2022-09-29T01:08:13.264744Z",
     "shell.execute_reply": "2022-09-29T01:08:13.263024Z"
    },
    "papermill": {
     "duration": 0.02545,
     "end_time": "2022-09-29T01:08:13.267317",
     "exception": false,
     "start_time": "2022-09-29T01:08:13.241867",
     "status": "completed"
    },
    "tags": []
   },
   "outputs": [
    {
     "data": {
      "text/html": [
       "<div>\n",
       "<style scoped>\n",
       "    .dataframe tbody tr th:only-of-type {\n",
       "        vertical-align: middle;\n",
       "    }\n",
       "\n",
       "    .dataframe tbody tr th {\n",
       "        vertical-align: top;\n",
       "    }\n",
       "\n",
       "    .dataframe thead th {\n",
       "        text-align: right;\n",
       "    }\n",
       "</style>\n",
       "<table border=\"1\" class=\"dataframe\">\n",
       "  <thead>\n",
       "    <tr style=\"text-align: right;\">\n",
       "      <th></th>\n",
       "      <th>listing_id</th>\n",
       "      <th>date</th>\n",
       "      <th>available</th>\n",
       "      <th>price</th>\n",
       "      <th>month</th>\n",
       "    </tr>\n",
       "  </thead>\n",
       "  <tbody>\n",
       "    <tr>\n",
       "      <th>0</th>\n",
       "      <td>241032</td>\n",
       "      <td>2016-01-04</td>\n",
       "      <td>t</td>\n",
       "      <td>85.0</td>\n",
       "      <td>1</td>\n",
       "    </tr>\n",
       "    <tr>\n",
       "      <th>1</th>\n",
       "      <td>241032</td>\n",
       "      <td>2016-01-05</td>\n",
       "      <td>t</td>\n",
       "      <td>85.0</td>\n",
       "      <td>1</td>\n",
       "    </tr>\n",
       "    <tr>\n",
       "      <th>2</th>\n",
       "      <td>241032</td>\n",
       "      <td>2016-01-06</td>\n",
       "      <td>f</td>\n",
       "      <td>NaN</td>\n",
       "      <td>1</td>\n",
       "    </tr>\n",
       "    <tr>\n",
       "      <th>3</th>\n",
       "      <td>241032</td>\n",
       "      <td>2016-01-07</td>\n",
       "      <td>f</td>\n",
       "      <td>NaN</td>\n",
       "      <td>1</td>\n",
       "    </tr>\n",
       "    <tr>\n",
       "      <th>4</th>\n",
       "      <td>241032</td>\n",
       "      <td>2016-01-08</td>\n",
       "      <td>f</td>\n",
       "      <td>NaN</td>\n",
       "      <td>1</td>\n",
       "    </tr>\n",
       "  </tbody>\n",
       "</table>\n",
       "</div>"
      ],
      "text/plain": [
       "  listing_id       date available  price  month\n",
       "0     241032 2016-01-04         t   85.0      1\n",
       "1     241032 2016-01-05         t   85.0      1\n",
       "2     241032 2016-01-06         f    NaN      1\n",
       "3     241032 2016-01-07         f    NaN      1\n",
       "4     241032 2016-01-08         f    NaN      1"
      ]
     },
     "execution_count": 7,
     "metadata": {},
     "output_type": "execute_result"
    }
   ],
   "source": [
    "calendar.head()"
   ]
  },
  {
   "cell_type": "code",
   "execution_count": 8,
   "id": "258766c2",
   "metadata": {
    "execution": {
     "iopub.execute_input": "2022-09-29T01:08:13.285852Z",
     "iopub.status.busy": "2022-09-29T01:08:13.285515Z",
     "iopub.status.idle": "2022-09-29T01:08:13.304532Z",
     "shell.execute_reply": "2022-09-29T01:08:13.302730Z"
    },
    "papermill": {
     "duration": 0.031479,
     "end_time": "2022-09-29T01:08:13.307281",
     "exception": false,
     "start_time": "2022-09-29T01:08:13.275802",
     "status": "completed"
    },
    "tags": []
   },
   "outputs": [
    {
     "data": {
      "text/html": [
       "<div>\n",
       "<style scoped>\n",
       "    .dataframe tbody tr th:only-of-type {\n",
       "        vertical-align: middle;\n",
       "    }\n",
       "\n",
       "    .dataframe tbody tr th {\n",
       "        vertical-align: top;\n",
       "    }\n",
       "\n",
       "    .dataframe thead th {\n",
       "        text-align: right;\n",
       "    }\n",
       "</style>\n",
       "<table border=\"1\" class=\"dataframe\">\n",
       "  <thead>\n",
       "    <tr style=\"text-align: right;\">\n",
       "      <th></th>\n",
       "      <th>price</th>\n",
       "      <th>accommodates</th>\n",
       "      <th>bathrooms</th>\n",
       "      <th>bedrooms</th>\n",
       "      <th>beds</th>\n",
       "      <th>weekly_price</th>\n",
       "      <th>monthly_price</th>\n",
       "      <th>cleaning_fee</th>\n",
       "      <th>instant_bookable</th>\n",
       "      <th>reviews_per_month</th>\n",
       "      <th>cancellation_policy</th>\n",
       "    </tr>\n",
       "  </thead>\n",
       "  <tbody>\n",
       "    <tr>\n",
       "      <th>0</th>\n",
       "      <td>$85.00</td>\n",
       "      <td>4</td>\n",
       "      <td>1.0</td>\n",
       "      <td>1.0</td>\n",
       "      <td>1.0</td>\n",
       "      <td>NaN</td>\n",
       "      <td>NaN</td>\n",
       "      <td>NaN</td>\n",
       "      <td>f</td>\n",
       "      <td>4.07</td>\n",
       "      <td>moderate</td>\n",
       "    </tr>\n",
       "    <tr>\n",
       "      <th>1</th>\n",
       "      <td>$150.00</td>\n",
       "      <td>4</td>\n",
       "      <td>1.0</td>\n",
       "      <td>1.0</td>\n",
       "      <td>1.0</td>\n",
       "      <td>$1,000.00</td>\n",
       "      <td>$3,000.00</td>\n",
       "      <td>$40.00</td>\n",
       "      <td>f</td>\n",
       "      <td>1.48</td>\n",
       "      <td>strict</td>\n",
       "    </tr>\n",
       "    <tr>\n",
       "      <th>2</th>\n",
       "      <td>$975.00</td>\n",
       "      <td>11</td>\n",
       "      <td>4.5</td>\n",
       "      <td>5.0</td>\n",
       "      <td>7.0</td>\n",
       "      <td>NaN</td>\n",
       "      <td>NaN</td>\n",
       "      <td>$300.00</td>\n",
       "      <td>f</td>\n",
       "      <td>1.15</td>\n",
       "      <td>strict</td>\n",
       "    </tr>\n",
       "    <tr>\n",
       "      <th>3</th>\n",
       "      <td>$100.00</td>\n",
       "      <td>3</td>\n",
       "      <td>1.0</td>\n",
       "      <td>0.0</td>\n",
       "      <td>2.0</td>\n",
       "      <td>$650.00</td>\n",
       "      <td>$2,300.00</td>\n",
       "      <td>NaN</td>\n",
       "      <td>f</td>\n",
       "      <td>NaN</td>\n",
       "      <td>flexible</td>\n",
       "    </tr>\n",
       "    <tr>\n",
       "      <th>4</th>\n",
       "      <td>$450.00</td>\n",
       "      <td>6</td>\n",
       "      <td>2.0</td>\n",
       "      <td>3.0</td>\n",
       "      <td>3.0</td>\n",
       "      <td>NaN</td>\n",
       "      <td>NaN</td>\n",
       "      <td>$125.00</td>\n",
       "      <td>f</td>\n",
       "      <td>0.89</td>\n",
       "      <td>strict</td>\n",
       "    </tr>\n",
       "  </tbody>\n",
       "</table>\n",
       "</div>"
      ],
      "text/plain": [
       "     price  accommodates  bathrooms  bedrooms  beds weekly_price  \\\n",
       "0   $85.00             4        1.0       1.0   1.0          NaN   \n",
       "1  $150.00             4        1.0       1.0   1.0    $1,000.00   \n",
       "2  $975.00            11        4.5       5.0   7.0          NaN   \n",
       "3  $100.00             3        1.0       0.0   2.0      $650.00   \n",
       "4  $450.00             6        2.0       3.0   3.0          NaN   \n",
       "\n",
       "  monthly_price cleaning_fee instant_bookable  reviews_per_month  \\\n",
       "0           NaN          NaN                f               4.07   \n",
       "1     $3,000.00       $40.00                f               1.48   \n",
       "2           NaN      $300.00                f               1.15   \n",
       "3     $2,300.00          NaN                f                NaN   \n",
       "4           NaN      $125.00                f               0.89   \n",
       "\n",
       "  cancellation_policy  \n",
       "0            moderate  \n",
       "1              strict  \n",
       "2              strict  \n",
       "3            flexible  \n",
       "4              strict  "
      ]
     },
     "execution_count": 8,
     "metadata": {},
     "output_type": "execute_result"
    }
   ],
   "source": [
    "#Create new datast for related features \n",
    "df = listings[['price','accommodates','bathrooms','bedrooms',\n",
    "               'beds','weekly_price','monthly_price','cleaning_fee', \n",
    "               'instant_bookable','reviews_per_month','cancellation_policy']]\n",
    "df.head()"
   ]
  },
  {
   "cell_type": "markdown",
   "id": "6be49976",
   "metadata": {
    "papermill": {
     "duration": 0.008248,
     "end_time": "2022-09-29T01:08:13.324423",
     "exception": false,
     "start_time": "2022-09-29T01:08:13.316175",
     "status": "completed"
    },
    "tags": []
   },
   "source": [
    "From df dataset, there are incorrect data types and NaN values."
   ]
  },
  {
   "cell_type": "code",
   "execution_count": 9,
   "id": "5a59a22d",
   "metadata": {
    "execution": {
     "iopub.execute_input": "2022-09-29T01:08:13.345448Z",
     "iopub.status.busy": "2022-09-29T01:08:13.345111Z",
     "iopub.status.idle": "2022-09-29T01:08:13.400958Z",
     "shell.execute_reply": "2022-09-29T01:08:13.398991Z"
    },
    "papermill": {
     "duration": 0.069018,
     "end_time": "2022-09-29T01:08:13.403707",
     "exception": false,
     "start_time": "2022-09-29T01:08:13.334689",
     "status": "completed"
    },
    "tags": []
   },
   "outputs": [
    {
     "name": "stderr",
     "output_type": "stream",
     "text": [
      "/opt/conda/lib/python3.7/site-packages/pandas/core/frame.py:3641: SettingWithCopyWarning: \n",
      "A value is trying to be set on a copy of a slice from a DataFrame.\n",
      "Try using .loc[row_indexer,col_indexer] = value instead\n",
      "\n",
      "See the caveats in the documentation: https://pandas.pydata.org/pandas-docs/stable/user_guide/indexing.html#returning-a-view-versus-a-copy\n",
      "  self[k1] = value[k2]\n"
     ]
    },
    {
     "data": {
      "text/html": [
       "<div>\n",
       "<style scoped>\n",
       "    .dataframe tbody tr th:only-of-type {\n",
       "        vertical-align: middle;\n",
       "    }\n",
       "\n",
       "    .dataframe tbody tr th {\n",
       "        vertical-align: top;\n",
       "    }\n",
       "\n",
       "    .dataframe thead th {\n",
       "        text-align: right;\n",
       "    }\n",
       "</style>\n",
       "<table border=\"1\" class=\"dataframe\">\n",
       "  <thead>\n",
       "    <tr style=\"text-align: right;\">\n",
       "      <th></th>\n",
       "      <th>price</th>\n",
       "      <th>accommodates</th>\n",
       "      <th>bathrooms</th>\n",
       "      <th>bedrooms</th>\n",
       "      <th>beds</th>\n",
       "      <th>weekly_price</th>\n",
       "      <th>monthly_price</th>\n",
       "      <th>cleaning_fee</th>\n",
       "      <th>instant_bookable</th>\n",
       "      <th>reviews_per_month</th>\n",
       "      <th>cancellation_policy</th>\n",
       "    </tr>\n",
       "  </thead>\n",
       "  <tbody>\n",
       "    <tr>\n",
       "      <th>0</th>\n",
       "      <td>85.0</td>\n",
       "      <td>4</td>\n",
       "      <td>1.0</td>\n",
       "      <td>1.0</td>\n",
       "      <td>1.0</td>\n",
       "      <td>NaN</td>\n",
       "      <td>NaN</td>\n",
       "      <td>NaN</td>\n",
       "      <td>f</td>\n",
       "      <td>4.07</td>\n",
       "      <td>moderate</td>\n",
       "    </tr>\n",
       "    <tr>\n",
       "      <th>1</th>\n",
       "      <td>150.0</td>\n",
       "      <td>4</td>\n",
       "      <td>1.0</td>\n",
       "      <td>1.0</td>\n",
       "      <td>1.0</td>\n",
       "      <td>1000.0</td>\n",
       "      <td>3000.0</td>\n",
       "      <td>40.0</td>\n",
       "      <td>f</td>\n",
       "      <td>1.48</td>\n",
       "      <td>strict</td>\n",
       "    </tr>\n",
       "    <tr>\n",
       "      <th>2</th>\n",
       "      <td>975.0</td>\n",
       "      <td>11</td>\n",
       "      <td>4.5</td>\n",
       "      <td>5.0</td>\n",
       "      <td>7.0</td>\n",
       "      <td>NaN</td>\n",
       "      <td>NaN</td>\n",
       "      <td>300.0</td>\n",
       "      <td>f</td>\n",
       "      <td>1.15</td>\n",
       "      <td>strict</td>\n",
       "    </tr>\n",
       "    <tr>\n",
       "      <th>3</th>\n",
       "      <td>100.0</td>\n",
       "      <td>3</td>\n",
       "      <td>1.0</td>\n",
       "      <td>0.0</td>\n",
       "      <td>2.0</td>\n",
       "      <td>650.0</td>\n",
       "      <td>2300.0</td>\n",
       "      <td>NaN</td>\n",
       "      <td>f</td>\n",
       "      <td>NaN</td>\n",
       "      <td>flexible</td>\n",
       "    </tr>\n",
       "    <tr>\n",
       "      <th>4</th>\n",
       "      <td>450.0</td>\n",
       "      <td>6</td>\n",
       "      <td>2.0</td>\n",
       "      <td>3.0</td>\n",
       "      <td>3.0</td>\n",
       "      <td>NaN</td>\n",
       "      <td>NaN</td>\n",
       "      <td>125.0</td>\n",
       "      <td>f</td>\n",
       "      <td>0.89</td>\n",
       "      <td>strict</td>\n",
       "    </tr>\n",
       "  </tbody>\n",
       "</table>\n",
       "</div>"
      ],
      "text/plain": [
       "   price  accommodates  bathrooms  bedrooms  beds  weekly_price  \\\n",
       "0   85.0             4        1.0       1.0   1.0           NaN   \n",
       "1  150.0             4        1.0       1.0   1.0        1000.0   \n",
       "2  975.0            11        4.5       5.0   7.0           NaN   \n",
       "3  100.0             3        1.0       0.0   2.0         650.0   \n",
       "4  450.0             6        2.0       3.0   3.0           NaN   \n",
       "\n",
       "   monthly_price  cleaning_fee instant_bookable  reviews_per_month  \\\n",
       "0            NaN           NaN                f               4.07   \n",
       "1         3000.0          40.0                f               1.48   \n",
       "2            NaN         300.0                f               1.15   \n",
       "3         2300.0           NaN                f                NaN   \n",
       "4            NaN         125.0                f               0.89   \n",
       "\n",
       "  cancellation_policy  \n",
       "0            moderate  \n",
       "1              strict  \n",
       "2              strict  \n",
       "3            flexible  \n",
       "4              strict  "
      ]
     },
     "execution_count": 9,
     "metadata": {},
     "output_type": "execute_result"
    }
   ],
   "source": [
    "#Convert data type string into float\n",
    "df[['price', 'weekly_price', 'monthly_price', 'cleaning_fee']] = df.iloc[:, [0,5,6,7]].replace('\\$|,', '', regex = True).astype('float')\n",
    "\n",
    "df.head()"
   ]
  },
  {
   "cell_type": "markdown",
   "id": "db00bcc1",
   "metadata": {
    "papermill": {
     "duration": 0.008531,
     "end_time": "2022-09-29T01:08:13.421199",
     "exception": false,
     "start_time": "2022-09-29T01:08:13.412668",
     "status": "completed"
    },
    "tags": []
   },
   "source": [
    "**Imputing Values in Numerical Variable**\n",
    "\n",
    "NaN values in the data frame can be imputed with mean value of the columns to prevent dropping of rows or columns. "
   ]
  },
  {
   "cell_type": "code",
   "execution_count": 10,
   "id": "3c04fff9",
   "metadata": {
    "execution": {
     "iopub.execute_input": "2022-09-29T01:08:13.440852Z",
     "iopub.status.busy": "2022-09-29T01:08:13.440065Z",
     "iopub.status.idle": "2022-09-29T01:08:13.458697Z",
     "shell.execute_reply": "2022-09-29T01:08:13.457560Z"
    },
    "papermill": {
     "duration": 0.031169,
     "end_time": "2022-09-29T01:08:13.461003",
     "exception": false,
     "start_time": "2022-09-29T01:08:13.429834",
     "status": "completed"
    },
    "tags": []
   },
   "outputs": [
    {
     "name": "stderr",
     "output_type": "stream",
     "text": [
      "/opt/conda/lib/python3.7/site-packages/pandas/core/generic.py:6392: SettingWithCopyWarning: \n",
      "A value is trying to be set on a copy of a slice from a DataFrame\n",
      "\n",
      "See the caveats in the documentation: https://pandas.pydata.org/pandas-docs/stable/user_guide/indexing.html#returning-a-view-versus-a-copy\n",
      "  return self._update_inplace(result)\n"
     ]
    }
   ],
   "source": [
    "#Impute values \n",
    "num_vars = df.select_dtypes(include=['int', 'float']).columns\n",
    "for num in num_vars:\n",
    "    df[num].fillna(df[num].mean(), inplace = True)"
   ]
  },
  {
   "cell_type": "markdown",
   "id": "32f2c533",
   "metadata": {
    "papermill": {
     "duration": 0.009209,
     "end_time": "2022-09-29T01:08:13.479140",
     "exception": false,
     "start_time": "2022-09-29T01:08:13.469931",
     "status": "completed"
    },
    "tags": []
   },
   "source": [
    "**Create dummies to NaN values in Categorical Variable**\n",
    "\n",
    " Categorical variable column break into 1 or 0 groups and summarize into column dummy_na."
   ]
  },
  {
   "cell_type": "code",
   "execution_count": 11,
   "id": "462792c1",
   "metadata": {
    "execution": {
     "iopub.execute_input": "2022-09-29T01:08:13.499399Z",
     "iopub.status.busy": "2022-09-29T01:08:13.499020Z",
     "iopub.status.idle": "2022-09-29T01:08:13.515566Z",
     "shell.execute_reply": "2022-09-29T01:08:13.514366Z"
    },
    "papermill": {
     "duration": 0.029924,
     "end_time": "2022-09-29T01:08:13.518603",
     "exception": false,
     "start_time": "2022-09-29T01:08:13.488679",
     "status": "completed"
    },
    "tags": []
   },
   "outputs": [],
   "source": [
    "#Break NaN values into dummy coded\n",
    "cat_vars = df.select_dtypes(include=['object']).columns\n",
    "for cat in cat_vars:\n",
    "    df = pd.concat([df.drop(cat, axis=1), pd.get_dummies(df[cat], prefix = cat, prefix_sep = '_', drop_first = True)],  axis = 1)"
   ]
  },
  {
   "cell_type": "code",
   "execution_count": 12,
   "id": "b211f27c",
   "metadata": {
    "execution": {
     "iopub.execute_input": "2022-09-29T01:08:13.540394Z",
     "iopub.status.busy": "2022-09-29T01:08:13.538762Z",
     "iopub.status.idle": "2022-09-29T01:08:13.552052Z",
     "shell.execute_reply": "2022-09-29T01:08:13.550788Z"
    },
    "papermill": {
     "duration": 0.026399,
     "end_time": "2022-09-29T01:08:13.554157",
     "exception": false,
     "start_time": "2022-09-29T01:08:13.527758",
     "status": "completed"
    },
    "tags": []
   },
   "outputs": [
    {
     "data": {
      "text/plain": [
       "price                           0\n",
       "accommodates                    0\n",
       "bathrooms                       0\n",
       "bedrooms                        0\n",
       "beds                            0\n",
       "weekly_price                    0\n",
       "monthly_price                   0\n",
       "cleaning_fee                    0\n",
       "reviews_per_month               0\n",
       "instant_bookable_t              0\n",
       "cancellation_policy_moderate    0\n",
       "cancellation_policy_strict      0\n",
       "dtype: int64"
      ]
     },
     "execution_count": 12,
     "metadata": {},
     "output_type": "execute_result"
    }
   ],
   "source": [
    "#Check for null\n",
    "np.sum(df.isnull())"
   ]
  },
  {
   "cell_type": "markdown",
   "id": "6d8af899",
   "metadata": {
    "papermill": {
     "duration": 0.008382,
     "end_time": "2022-09-29T01:08:13.571227",
     "exception": false,
     "start_time": "2022-09-29T01:08:13.562845",
     "status": "completed"
    },
    "tags": []
   },
   "source": [
    "NaN values have been fully replaced."
   ]
  },
  {
   "cell_type": "markdown",
   "id": "e24135e6",
   "metadata": {
    "papermill": {
     "duration": 0.008275,
     "end_time": "2022-09-29T01:08:13.587768",
     "exception": false,
     "start_time": "2022-09-29T01:08:13.579493",
     "status": "completed"
    },
    "tags": []
   },
   "source": [
    "**4. Modelling & Evaluation**\n",
    "\n",
    "Questions 1: What is the peak season in Seattle in a year??"
   ]
  },
  {
   "cell_type": "code",
   "execution_count": 13,
   "id": "e4c4fd72",
   "metadata": {
    "execution": {
     "iopub.execute_input": "2022-09-29T01:08:13.607500Z",
     "iopub.status.busy": "2022-09-29T01:08:13.607161Z",
     "iopub.status.idle": "2022-09-29T01:08:13.988886Z",
     "shell.execute_reply": "2022-09-29T01:08:13.987476Z"
    },
    "papermill": {
     "duration": 0.395004,
     "end_time": "2022-09-29T01:08:13.991396",
     "exception": false,
     "start_time": "2022-09-29T01:08:13.596392",
     "status": "completed"
    },
    "tags": []
   },
   "outputs": [],
   "source": [
    "#Extract count of 'f' from available's column\n",
    "calendar_f = pd.pivot_table(calendar[calendar['available'] == 'f'], index= 'month', aggfunc = {'available': 'count'})\n",
    "calendar_f['month'] = calendar_f.index\n",
    "\n",
    "#Extract count of 't' from available's column\n",
    "calendar_t = pd.pivot_table(calendar[calendar['available'] == 't'], index= 'month', aggfunc = {'available': 'count'})\n",
    "calendar_t['month'] = calendar_t.index"
   ]
  },
  {
   "cell_type": "code",
   "execution_count": 14,
   "id": "423405e1",
   "metadata": {
    "execution": {
     "iopub.execute_input": "2022-09-29T01:08:14.010775Z",
     "iopub.status.busy": "2022-09-29T01:08:14.010441Z",
     "iopub.status.idle": "2022-09-29T01:08:14.343010Z",
     "shell.execute_reply": "2022-09-29T01:08:14.341719Z"
    },
    "papermill": {
     "duration": 0.344891,
     "end_time": "2022-09-29T01:08:14.345053",
     "exception": false,
     "start_time": "2022-09-29T01:08:14.000162",
     "status": "completed"
    },
    "tags": []
   },
   "outputs": [
    {
     "data": {
      "image/png": "[encoded data removed]",
      "text/plain": [
       "<Figure size 720x288 with 2 Axes>"
      ]
     },
     "metadata": {
      "needs_background": "light"
     },
     "output_type": "display_data"
    }
   ],
   "source": [
    "fig, (ax0, ax1) = plt.subplots(nrows = 1, ncols = 2, sharey = True, figsize = (10, 4))\n",
    "f = sns.barplot(x = calendar_f['month'], y = calendar_f['available'], ax = ax0)\n",
    "t = sns.barplot(x = calendar_t['month'], y = calendar_t['available'], ax = ax1)\n",
    "ax0.set(xlabel = 'Month', ylabel = 'Count', xlim = (-1, 12))\n",
    "ax1.set(xlabel = 'Month', ylabel = 'Count', xlim = (-1, 12))\n",
    "f.set_title('Not Available of Listings', y = 1)\n",
    "t.set_title('Available of Listings', y = 1)\n",
    "plt.show()"
   ]
  },
  {
   "cell_type": "markdown",
   "id": "d96205cb",
   "metadata": {
    "papermill": {
     "duration": 0.009782,
     "end_time": "2022-09-29T01:08:14.364131",
     "exception": false,
     "start_time": "2022-09-29T01:08:14.354349",
     "status": "completed"
    },
    "tags": []
   },
   "source": [
    "From the graphs above, the peak season in Seattle was observed in January, June, and August throughout the year. More listings were available in March and December."
   ]
  },
  {
   "cell_type": "markdown",
   "id": "e67822a1",
   "metadata": {
    "papermill": {
     "duration": 0.010154,
     "end_time": "2022-09-29T01:08:14.385119",
     "exception": false,
     "start_time": "2022-09-29T01:08:14.374965",
     "status": "completed"
    },
    "tags": []
   },
   "source": [
    "**Question 2: Which area is the crowdest in Seattle?**"
   ]
  },
  {
   "cell_type": "code",
   "execution_count": 15,
   "id": "c713ca00",
   "metadata": {
    "execution": {
     "iopub.execute_input": "2022-09-29T01:08:14.407184Z",
     "iopub.status.busy": "2022-09-29T01:08:14.406746Z",
     "iopub.status.idle": "2022-09-29T01:08:14.417372Z",
     "shell.execute_reply": "2022-09-29T01:08:14.415916Z"
    },
    "papermill": {
     "duration": 0.024848,
     "end_time": "2022-09-29T01:08:14.419814",
     "exception": false,
     "start_time": "2022-09-29T01:08:14.394966",
     "status": "completed"
    },
    "tags": []
   },
   "outputs": [],
   "source": [
    "listings['zipcode'] = listings['zipcode'].dropna(axis = 0).astype('category')\n",
    "location = listings[['latitude', 'longitude', 'zipcode']]"
   ]
  },
  {
   "cell_type": "code",
   "execution_count": 16,
   "id": "0bd69f2e",
   "metadata": {
    "execution": {
     "iopub.execute_input": "2022-09-29T01:08:14.440367Z",
     "iopub.status.busy": "2022-09-29T01:08:14.439998Z",
     "iopub.status.idle": "2022-09-29T01:08:15.275592Z",
     "shell.execute_reply": "2022-09-29T01:08:15.274812Z"
    },
    "papermill": {
     "duration": 0.848573,
     "end_time": "2022-09-29T01:08:15.277903",
     "exception": false,
     "start_time": "2022-09-29T01:08:14.429330",
     "status": "completed"
    },
    "tags": []
   },
   "outputs": [
    {
     "data": {
      "image/png": "[encoded data removed]",
      "text/plain": [
       "<Figure size 432x288 with 1 Axes>"
      ]
     },
     "metadata": {
      "needs_background": "light"
     },
     "output_type": "display_data"
    }
   ],
   "source": [
    "sns.scatterplot(data = location, x = 'longitude', y = 'latitude', hue = 'zipcode').set(title = 'Location of Listings')\n",
    "sns.set(rc = {'figure.figsize':(10,15)})\n",
    "plt.xticks(rotation = 90)\n",
    "plt.show()"
   ]
  },
  {
   "cell_type": "markdown",
   "id": "f4009ed7",
   "metadata": {
    "papermill": {
     "duration": 0.010698,
     "end_time": "2022-09-29T01:08:15.299583",
     "exception": false,
     "start_time": "2022-09-29T01:08:15.288885",
     "status": "completed"
    },
    "tags": []
   },
   "source": [
    "From the scatter plot above, most of the listings are located at the center of Seattle with zip codes 98122, 98103, and 98102."
   ]
  },
  {
   "cell_type": "markdown",
   "id": "89f35750",
   "metadata": {
    "papermill": {
     "duration": 0.0102,
     "end_time": "2022-09-29T01:08:15.320400",
     "exception": false,
     "start_time": "2022-09-29T01:08:15.310200",
     "status": "completed"
    },
    "tags": []
   },
   "source": [
    "**Question 3: Price prediction**"
   ]
  },
  {
   "cell_type": "markdown",
   "id": "dbe8bc71",
   "metadata": {
    "papermill": {
     "duration": 0.010977,
     "end_time": "2022-09-29T01:08:15.341851",
     "exception": false,
     "start_time": "2022-09-29T01:08:15.330874",
     "status": "completed"
    },
    "tags": []
   },
   "source": [
    "Several features have been selected from listings dataset."
   ]
  },
  {
   "cell_type": "code",
   "execution_count": 17,
   "id": "850f4df7",
   "metadata": {
    "execution": {
     "iopub.execute_input": "2022-09-29T01:08:15.365404Z",
     "iopub.status.busy": "2022-09-29T01:08:15.364664Z",
     "iopub.status.idle": "2022-09-29T01:08:15.380038Z",
     "shell.execute_reply": "2022-09-29T01:08:15.378618Z"
    },
    "papermill": {
     "duration": 0.03001,
     "end_time": "2022-09-29T01:08:15.382524",
     "exception": false,
     "start_time": "2022-09-29T01:08:15.352514",
     "status": "completed"
    },
    "tags": []
   },
   "outputs": [
    {
     "data": {
      "text/html": [
       "<div>\n",
       "<style scoped>\n",
       "    .dataframe tbody tr th:only-of-type {\n",
       "        vertical-align: middle;\n",
       "    }\n",
       "\n",
       "    .dataframe tbody tr th {\n",
       "        vertical-align: top;\n",
       "    }\n",
       "\n",
       "    .dataframe thead th {\n",
       "        text-align: right;\n",
       "    }\n",
       "</style>\n",
       "<table border=\"1\" class=\"dataframe\">\n",
       "  <thead>\n",
       "    <tr style=\"text-align: right;\">\n",
       "      <th></th>\n",
       "      <th>price</th>\n",
       "      <th>accommodates</th>\n",
       "      <th>bathrooms</th>\n",
       "      <th>bedrooms</th>\n",
       "      <th>beds</th>\n",
       "      <th>weekly_price</th>\n",
       "      <th>monthly_price</th>\n",
       "      <th>cleaning_fee</th>\n",
       "      <th>reviews_per_month</th>\n",
       "      <th>instant_bookable_t</th>\n",
       "      <th>cancellation_policy_moderate</th>\n",
       "      <th>cancellation_policy_strict</th>\n",
       "    </tr>\n",
       "  </thead>\n",
       "  <tbody>\n",
       "    <tr>\n",
       "      <th>0</th>\n",
       "      <td>85.0</td>\n",
       "      <td>4</td>\n",
       "      <td>1.0</td>\n",
       "      <td>1.0</td>\n",
       "      <td>1.0</td>\n",
       "      <td>788.481832</td>\n",
       "      <td>2613.33619</td>\n",
       "      <td>61.710904</td>\n",
       "      <td>4.070000</td>\n",
       "      <td>0</td>\n",
       "      <td>1</td>\n",
       "      <td>0</td>\n",
       "    </tr>\n",
       "    <tr>\n",
       "      <th>1</th>\n",
       "      <td>150.0</td>\n",
       "      <td>4</td>\n",
       "      <td>1.0</td>\n",
       "      <td>1.0</td>\n",
       "      <td>1.0</td>\n",
       "      <td>1000.000000</td>\n",
       "      <td>3000.00000</td>\n",
       "      <td>40.000000</td>\n",
       "      <td>1.480000</td>\n",
       "      <td>0</td>\n",
       "      <td>0</td>\n",
       "      <td>1</td>\n",
       "    </tr>\n",
       "    <tr>\n",
       "      <th>2</th>\n",
       "      <td>975.0</td>\n",
       "      <td>11</td>\n",
       "      <td>4.5</td>\n",
       "      <td>5.0</td>\n",
       "      <td>7.0</td>\n",
       "      <td>788.481832</td>\n",
       "      <td>2613.33619</td>\n",
       "      <td>300.000000</td>\n",
       "      <td>1.150000</td>\n",
       "      <td>0</td>\n",
       "      <td>0</td>\n",
       "      <td>1</td>\n",
       "    </tr>\n",
       "    <tr>\n",
       "      <th>3</th>\n",
       "      <td>100.0</td>\n",
       "      <td>3</td>\n",
       "      <td>1.0</td>\n",
       "      <td>0.0</td>\n",
       "      <td>2.0</td>\n",
       "      <td>650.000000</td>\n",
       "      <td>2300.00000</td>\n",
       "      <td>61.710904</td>\n",
       "      <td>2.078919</td>\n",
       "      <td>0</td>\n",
       "      <td>0</td>\n",
       "      <td>0</td>\n",
       "    </tr>\n",
       "    <tr>\n",
       "      <th>4</th>\n",
       "      <td>450.0</td>\n",
       "      <td>6</td>\n",
       "      <td>2.0</td>\n",
       "      <td>3.0</td>\n",
       "      <td>3.0</td>\n",
       "      <td>788.481832</td>\n",
       "      <td>2613.33619</td>\n",
       "      <td>125.000000</td>\n",
       "      <td>0.890000</td>\n",
       "      <td>0</td>\n",
       "      <td>0</td>\n",
       "      <td>1</td>\n",
       "    </tr>\n",
       "  </tbody>\n",
       "</table>\n",
       "</div>"
      ],
      "text/plain": [
       "   price  accommodates  bathrooms  bedrooms  beds  weekly_price  \\\n",
       "0   85.0             4        1.0       1.0   1.0    788.481832   \n",
       "1  150.0             4        1.0       1.0   1.0   1000.000000   \n",
       "2  975.0            11        4.5       5.0   7.0    788.481832   \n",
       "3  100.0             3        1.0       0.0   2.0    650.000000   \n",
       "4  450.0             6        2.0       3.0   3.0    788.481832   \n",
       "\n",
       "   monthly_price  cleaning_fee  reviews_per_month  instant_bookable_t  \\\n",
       "0     2613.33619     61.710904           4.070000                   0   \n",
       "1     3000.00000     40.000000           1.480000                   0   \n",
       "2     2613.33619    300.000000           1.150000                   0   \n",
       "3     2300.00000     61.710904           2.078919                   0   \n",
       "4     2613.33619    125.000000           0.890000                   0   \n",
       "\n",
       "   cancellation_policy_moderate  cancellation_policy_strict  \n",
       "0                             1                           0  \n",
       "1                             0                           1  \n",
       "2                             0                           1  \n",
       "3                             0                           0  \n",
       "4                             0                           1  "
      ]
     },
     "execution_count": 17,
     "metadata": {},
     "output_type": "execute_result"
    }
   ],
   "source": [
    "df.head()"
   ]
  },
  {
   "cell_type": "code",
   "execution_count": 18,
   "id": "afe4e583",
   "metadata": {
    "execution": {
     "iopub.execute_input": "2022-09-29T01:08:15.405147Z",
     "iopub.status.busy": "2022-09-29T01:08:15.404773Z",
     "iopub.status.idle": "2022-09-29T01:08:16.155847Z",
     "shell.execute_reply": "2022-09-29T01:08:16.154661Z"
    },
    "papermill": {
     "duration": 0.764643,
     "end_time": "2022-09-29T01:08:16.157753",
     "exception": false,
     "start_time": "2022-09-29T01:08:15.393110",
     "status": "completed"
    },
    "tags": []
   },
   "outputs": [
    {
     "data": {
      "image/png": "[encoded data removed]",
      "text/plain": [
       "<Figure size 720x1080 with 2 Axes>"
      ]
     },
     "metadata": {},
     "output_type": "display_data"
    },
    {
     "data": {
      "text/plain": [
       "<Figure size 360x360 with 0 Axes>"
      ]
     },
     "metadata": {},
     "output_type": "display_data"
    }
   ],
   "source": [
    "#Overview the correlation of price\n",
    "sns.heatmap(df.corr(), annot = True, linewidths = .3)\n",
    "plt.figure(figsize = (5, 5))\n",
    "plt.show()"
   ]
  },
  {
   "cell_type": "code",
   "execution_count": 19,
   "id": "efd80e21",
   "metadata": {
    "execution": {
     "iopub.execute_input": "2022-09-29T01:08:16.184479Z",
     "iopub.status.busy": "2022-09-29T01:08:16.184129Z",
     "iopub.status.idle": "2022-09-29T01:08:16.192520Z",
     "shell.execute_reply": "2022-09-29T01:08:16.191024Z"
    },
    "papermill": {
     "duration": 0.024837,
     "end_time": "2022-09-29T01:08:16.195063",
     "exception": false,
     "start_time": "2022-09-29T01:08:16.170226",
     "status": "completed"
    },
    "tags": []
   },
   "outputs": [],
   "source": [
    "#Define X and y \n",
    "y = df['price']\n",
    "df = df.drop('price', axis = 1)\n",
    "X = df"
   ]
  },
  {
   "cell_type": "code",
   "execution_count": 20,
   "id": "20e2848b",
   "metadata": {
    "execution": {
     "iopub.execute_input": "2022-09-29T01:08:16.223486Z",
     "iopub.status.busy": "2022-09-29T01:08:16.222896Z",
     "iopub.status.idle": "2022-09-29T01:08:16.234789Z",
     "shell.execute_reply": "2022-09-29T01:08:16.232942Z"
    },
    "papermill": {
     "duration": 0.028859,
     "end_time": "2022-09-29T01:08:16.237237",
     "exception": false,
     "start_time": "2022-09-29T01:08:16.208378",
     "status": "completed"
    },
    "tags": []
   },
   "outputs": [
    {
     "name": "stdout",
     "output_type": "stream",
     "text": [
      "<class 'pandas.core.frame.DataFrame'>\n",
      "RangeIndex: 3818 entries, 0 to 3817\n",
      "Data columns (total 11 columns):\n",
      " #   Column                        Non-Null Count  Dtype  \n",
      "---  ------                        --------------  -----  \n",
      " 0   accommodates                  3818 non-null   int64  \n",
      " 1   bathrooms                     3818 non-null   float64\n",
      " 2   bedrooms                      3818 non-null   float64\n",
      " 3   beds                          3818 non-null   float64\n",
      " 4   weekly_price                  3818 non-null   float64\n",
      " 5   monthly_price                 3818 non-null   float64\n",
      " 6   cleaning_fee                  3818 non-null   float64\n",
      " 7   reviews_per_month             3818 non-null   float64\n",
      " 8   instant_bookable_t            3818 non-null   uint8  \n",
      " 9   cancellation_policy_moderate  3818 non-null   uint8  \n",
      " 10  cancellation_policy_strict    3818 non-null   uint8  \n",
      "dtypes: float64(7), int64(1), uint8(3)\n",
      "memory usage: 249.9 KB\n"
     ]
    }
   ],
   "source": [
    "X.info()"
   ]
  },
  {
   "cell_type": "code",
   "execution_count": 21,
   "id": "a378f8fb",
   "metadata": {
    "execution": {
     "iopub.execute_input": "2022-09-29T01:08:16.265181Z",
     "iopub.status.busy": "2022-09-29T01:08:16.264543Z",
     "iopub.status.idle": "2022-09-29T01:08:16.313373Z",
     "shell.execute_reply": "2022-09-29T01:08:16.312460Z"
    },
    "papermill": {
     "duration": 0.065639,
     "end_time": "2022-09-29T01:08:16.315813",
     "exception": false,
     "start_time": "2022-09-29T01:08:16.250174",
     "status": "completed"
    },
    "tags": []
   },
   "outputs": [
    {
     "name": "stdout",
     "output_type": "stream",
     "text": [
      "rsquared_score: 0.6106924826212423 \n",
      "train_score: 0.6127076826643214\n"
     ]
    },
    {
     "name": "stderr",
     "output_type": "stream",
     "text": [
      "/opt/conda/lib/python3.7/site-packages/sklearn/linear_model/_base.py:145: FutureWarning: 'normalize' was deprecated in version 1.0 and will be removed in 1.2.\n",
      "If you wish to scale the data, use Pipeline with a StandardScaler in a preprocessing stage. To reproduce the previous behavior:\n",
      "\n",
      "from sklearn.pipeline import make_pipeline\n",
      "\n",
      "model = make_pipeline(StandardScaler(with_mean=False), LinearRegression())\n",
      "\n",
      "If you wish to pass a sample_weight parameter, you need to pass it as a fit parameter to each step of the pipeline as follows:\n",
      "\n",
      "kwargs = {s[0] + '__sample_weight': sample_weight for s in model.steps}\n",
      "model.fit(X, y, **kwargs)\n",
      "\n",
      "\n",
      "  FutureWarning,\n"
     ]
    }
   ],
   "source": [
    "#Instantiate model\n",
    "X_train, X_test, y_train, y_test = train_test_split(X, y, test_size = .3, random_state = 42)\n",
    "lm_model = LinearRegression(normalize = True)\n",
    "\n",
    "#Fit the model\n",
    "lm_model.fit(X_train, y_train)\n",
    "\n",
    "#Predict fitted model on test data\n",
    "y_test_preds = lm_model.predict(X_test)\n",
    "y_train_preds = lm_model.predict(X_train)\n",
    "test_score = r2_score(y_test, y_test_preds)\n",
    "train_score = r2_score(y_train, y_train_preds)\n",
    "\n",
    "print('rsquared_score: {} \\ntrain_score: {}'.format(test_score, train_score))"
   ]
  },
  {
   "cell_type": "markdown",
   "id": "71e190bc",
   "metadata": {
    "papermill": {
     "duration": 0.037384,
     "end_time": "2022-09-29T01:08:16.378301",
     "exception": false,
     "start_time": "2022-09-29T01:08:16.340917",
     "status": "completed"
    },
    "tags": []
   },
   "source": [
    "Based on the rsqueared score and train score, both data fits well."
   ]
  },
  {
   "cell_type": "code",
   "execution_count": 22,
   "id": "7ad41dd5",
   "metadata": {
    "execution": {
     "iopub.execute_input": "2022-09-29T01:08:16.429301Z",
     "iopub.status.busy": "2022-09-29T01:08:16.428889Z",
     "iopub.status.idle": "2022-09-29T01:08:16.441804Z",
     "shell.execute_reply": "2022-09-29T01:08:16.440692Z"
    },
    "papermill": {
     "duration": 0.032849,
     "end_time": "2022-09-29T01:08:16.443797",
     "exception": false,
     "start_time": "2022-09-29T01:08:16.410948",
     "status": "completed"
    },
    "tags": []
   },
   "outputs": [
    {
     "name": "stdout",
     "output_type": "stream",
     "text": [
      "Weight of Features on Price:\n",
      "                         features       coef   abs_coef\n",
      "1                      bathrooms  16.965889  16.965889\n",
      "0                   accommodates  11.605794  11.605794\n",
      "2                       bedrooms  10.722350  10.722350\n",
      "7              reviews_per_month  -3.330174   3.330174\n",
      "3                           beds  -2.768310   2.768310\n",
      "9   cancellation_policy_moderate  -2.033063   2.033063\n",
      "8             instant_bookable_t   2.009741   2.009741\n",
      "10    cancellation_policy_strict   0.520683   0.520683\n",
      "6                   cleaning_fee   0.393119   0.393119\n",
      "4                   weekly_price   0.082866   0.082866\n",
      "5                  monthly_price   0.001238   0.001238 \n",
      "\n"
     ]
    }
   ],
   "source": [
    "#Create dataframe to understand the most influential coefficients in a linear model\n",
    "coef_df = pd.DataFrame()\n",
    "coef_df['features'] = X_train.columns\n",
    "coef_df['coef'] = lm_model.coef_\n",
    "coef_df['abs_coef'] = np.abs(lm_model.coef_)\n",
    "coef_df = coef_df.sort_values('abs_coef', ascending = False)\n",
    "print('Weight of Features on Price:\\n', coef_df, '\\n')"
   ]
  },
  {
   "cell_type": "code",
   "execution_count": 23,
   "id": "37c1d048",
   "metadata": {
    "execution": {
     "iopub.execute_input": "2022-09-29T01:08:16.471126Z",
     "iopub.status.busy": "2022-09-29T01:08:16.470733Z",
     "iopub.status.idle": "2022-09-29T01:08:16.727179Z",
     "shell.execute_reply": "2022-09-29T01:08:16.725269Z"
    },
    "papermill": {
     "duration": 0.2733,
     "end_time": "2022-09-29T01:08:16.729809",
     "exception": false,
     "start_time": "2022-09-29T01:08:16.456509",
     "status": "completed"
    },
    "tags": []
   },
   "outputs": [
    {
     "data": {
      "image/png": "[encoded data removed]",
      "text/plain": [
       "<Figure size 720x1080 with 1 Axes>"
      ]
     },
     "metadata": {},
     "output_type": "display_data"
    },
    {
     "data": {
      "text/plain": [
       "<Figure size 1080x360 with 0 Axes>"
      ]
     },
     "metadata": {},
     "output_type": "display_data"
    }
   ],
   "source": [
    "plt.bar(coef_df['features'], coef_df['abs_coef'])\n",
    "plt.xlabel('Features')\n",
    "plt.ylabel('abs_coef')\n",
    "plt.title('Weight of Features on Price')\n",
    "plt.xticks(coef_df['features'], rotation = 90)\n",
    "plt.figure(figsize = (15,5))\n",
    "plt.show()"
   ]
  },
  {
   "cell_type": "markdown",
   "id": "1992b23c",
   "metadata": {
    "papermill": {
     "duration": 0.013203,
     "end_time": "2022-09-29T01:08:16.756724",
     "exception": false,
     "start_time": "2022-09-29T01:08:16.743521",
     "status": "completed"
    },
    "tags": []
   },
   "source": [
    "Features of bathrooms, accommodation, and bedrooms show many contribution to the price."
   ]
  },
  {
   "cell_type": "markdown",
   "id": "9c241050",
   "metadata": {
    "papermill": {
     "duration": 0.013303,
     "end_time": "2022-09-29T01:08:16.784224",
     "exception": false,
     "start_time": "2022-09-29T01:08:16.770921",
     "status": "completed"
    },
    "tags": []
   },
   "source": [
    "**Summary**\n",
    "\n",
    "From the analysis, the Airbnb business in Seattle reached its maximum in January, July, and August. Most of the listings are located at the center of Seattle. Price is defined by the bathrooms, accommodation, bedrooms of listings."
   ]
  }
 ],
 "metadata": {
  "kernelspec": {
   "display_name": "Python 3",
   "language": "python",
   "name": "python3"
  },
  "language_info": {
   "codemirror_mode": {
    "name": "ipython",
    "version": 3
   },
   "file_extension": ".py",
   "mimetype": "text/x-python",
   "name": "python",
   "nbconvert_exporter": "python",
   "pygments_lexer": "ipython3",
   "version": "3.7.12"
  },
  "papermill": {
   "default_parameters": {},
   "duration": 21.000814,
   "end_time": "2022-09-29T01:08:17.721181",
   "environment_variables": {},
   "exception": null,
   "input_path": "__notebook__.ipynb",
   "output_path": "__notebook__.ipynb",
   "parameters": {},
   "start_time": "2022-09-29T01:07:56.720367",
   "version": "2.3.4"
  }
 },
 "nbformat": 4,
 "nbformat_minor": 5
}
